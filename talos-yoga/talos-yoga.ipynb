{
 "cells": [
  {
   "cell_type": "code",
   "execution_count": 44,
   "metadata": {},
   "outputs": [],
   "source": [
    "import pinocchio as pin\n",
    "from pinocchio import casadi as cpin\n",
    "import casadi\n",
    "import numpy as np\n",
    "import example_robot_data as robex\n",
    "#import matplotlib.pyplot as plt; plt.ion()\n",
    "from pinocchio.visualize import GepettoVisualizer\n",
    "from utils.meshcat_viewer_wrapper import  MeshcatVisualizer, colors"
   ]
  },
  {
   "cell_type": "code",
   "execution_count": 63,
   "metadata": {},
   "outputs": [],
   "source": [
    "robot = robex.load('talos')\n",
    "model = robot.model\n",
    "cmodel = cpin.Model(robot.model)\n",
    "data = model.createData()\n",
    "cdata = cmodel.createData()\n",
    "\n",
    "q0 = robot.q0\n",
    "v0 = np.zeros(robot.nv)\n",
    "a0 = np.zeros(robot.nv)"
   ]
  },
  {
   "cell_type": "code",
   "execution_count": 30,
   "metadata": {},
   "outputs": [
    {
     "data": {
      "text/plain": [
       "' from pinocchio.visualize import GepettoVisualizer\\n\\n### HYPER PARAMETERS\\n# Hyperparameters defining the optimal control problem.\\nT = 10\\nDT = 0.05\\n\\n### LOAD AND DISPLAY SOLO\\n# Load the robot model from example robot data and display it if possible in Gepetto-viewer\\nviz_debug = GepettoVisualizer(robot.model,robot.collision_model,robot.visual_model)\\nviz_debug.initViewer()\\nviz_debug.loadViewerModel()\\n\\nviz_debug.display(robot.q0) '"
      ]
     },
     "execution_count": 30,
     "metadata": {},
     "output_type": "execute_result"
    }
   ],
   "source": [
    "\"\"\" from pinocchio.visualize import GepettoVisualizer\n",
    "\n",
    "### HYPER PARAMETERS\n",
    "# Hyperparameters defining the optimal control problem.\n",
    "T = 10\n",
    "DT = 0.05\n",
    "\n",
    "### LOAD AND DISPLAY SOLO\n",
    "# Load the robot model from example robot data and display it if possible in Gepetto-viewer\n",
    "viz_debug = GepettoVisualizer(robot.model,robot.collision_model,robot.visual_model)\n",
    "viz_debug.initViewer()\n",
    "viz_debug.loadViewerModel()\n",
    "\n",
    "viz_debug.display(robot.q0) \"\"\""
   ]
  },
  {
   "cell_type": "code",
   "execution_count": 32,
   "metadata": {},
   "outputs": [
    {
     "name": "stdout",
     "output_type": "stream",
     "text": [
      "You can open the visualizer by visiting the following URL:\n",
      "http://127.0.0.1:7001/static/\n"
     ]
    }
   ],
   "source": [
    "viz = MeshcatVisualizer(robot)"
   ]
  },
  {
   "cell_type": "code",
   "execution_count": 33,
   "metadata": {},
   "outputs": [],
   "source": [
    "IDX_LF = cmodel.getFrameId('leg_left_6_link')"
   ]
  },
  {
   "cell_type": "code",
   "execution_count": 35,
   "metadata": {},
   "outputs": [],
   "source": [
    "viz.display(robot.q0)"
   ]
  },
  {
   "cell_type": "code",
   "execution_count": 303,
   "metadata": {},
   "outputs": [],
   "source": [
    "class KineModel:\n",
    "    def __init__ (self, cmodel):\n",
    "        self.cmodel = cmodel\n",
    "        self.cdata = cdata = cmodel.createData()\n",
    "        self.nq, self.nv = cmodel.nq, cmodel.nv\n",
    "        self.nx = self.nq+ self.nv\n",
    "\n",
    "        cq = casadi.SX.sym('cq', self.nq, 1)\n",
    "        cv = casadi.SX.sym('cv', self.nv, 1)\n",
    "        ca = casadi.SX.sym('ca', self.nv, 1)\n",
    "        cx = casadi.vertcat(cq, cv)\n",
    "\n",
    "        self.IDX_LF = IDX_LF = cmodel.getFrameId('leg_left_6_link')\n",
    "        self.IDX_RF = IDX_RF = cmodel.getFrameId('leg_right_6_link')\n",
    "\n",
    "        self.com_position = casadi.Function('com', [cq], [cpin.centerOfMass(cmodel, cdata, cq)] )\n",
    "\n",
    "        cpin.forwardKinematics(cmodel, cdata, cq, cv, ca)\n",
    "        cpin.updateFramePlacements(cmodel, cdata)\n",
    "\n",
    "        self.lf_position = casadi.Function('lf', [cq], [cdata.oMf[IDX_LF].translation])\n",
    "        self.rf_position = casadi.Function('rf', [cq], [cdata.oMf[IDX_RF].translation])\n",
    "        self.rf_rotation = casadi.Function('rf', [cq], [cdata.oMf[IDX_RF].rotation])\n",
    "\n",
    "    def cost(self, cq):\n",
    "        com_pos = self.com_position(cq)\n",
    "        return com_pos.T @ com_pos \n",
    "\n",
    "    def foot_constraint(self, q):\n",
    "        r = self.rf_rotation(q)\n",
    "        p = self.rf_position(q)\n",
    "        return casadi.sumsqr(cpin.SE3(r,p).translation)\n",
    "        opti.subject_to(casadi.sumsqr(cpin.SE3(r,p).translation) == 0) \n",
    "\n",
    "        "
   ]
  },
  {
   "cell_type": "code",
   "execution_count": 304,
   "metadata": {},
   "outputs": [],
   "source": [
    "kine_model = KineModel(cmodel)"
   ]
  },
  {
   "cell_type": "code",
   "execution_count": 309,
   "metadata": {},
   "outputs": [
    {
     "data": {
      "text/plain": [
       "casadi.casadi.SX"
      ]
     },
     "execution_count": 309,
     "metadata": {},
     "output_type": "execute_result"
    }
   ],
   "source": [
    "cq = casadi.SX.sym('cq', robot.nq, 1)\n",
    "cv = casadi.SX.sym('cv', robot.nv, 1)\n",
    "ca = casadi.SX.sym('ca', robot.nv, 1)\n",
    "\n",
    "type(kine_model.foot_constraint(cq))"
   ]
  },
  {
   "cell_type": "code",
   "execution_count": 302,
   "metadata": {},
   "outputs": [],
   "source": [
    "ballId = 'world/ball'\n",
    "viz.display(q0)\n",
    "viz.addSphere(ballId, 0.1, color=colors.red)\n",
    "pose = pin.SE3(kine_model.rf_rotation(q0).full(), kine_model.rf_position(q0).full() )\n",
    "viz.applyConfiguration(ballId, pose)"
   ]
  },
  {
   "cell_type": "code",
   "execution_count": 311,
   "metadata": {},
   "outputs": [
    {
     "ename": "TypeError",
     "evalue": "Wrong number or type of arguments for overloaded function 'Opti__subject_to'.\n  Possible C/C++ prototypes are:\n    casadi::Opti::subject_to(casadi::MX const &)\n    casadi::Opti::subject_to(std::vector< casadi::MX,std::allocator< casadi::MX > > const &)\n    casadi::Opti::subject_to()\n",
     "output_type": "error",
     "traceback": [
      "\u001b[0;31m---------------------------------------------------------------------------\u001b[0m",
      "\u001b[0;31mTypeError\u001b[0m                                 Traceback (most recent call last)",
      "\u001b[1;32m/home/aassirelli/devel/learning-projects/talos-yoga/talos-yoga.ipynb Cell 11'\u001b[0m in \u001b[0;36m<cell line: 6>\u001b[0;34m()\u001b[0m\n\u001b[1;32m      <a href='vscode-notebook-cell:/home/aassirelli/devel/learning-projects/talos-yoga/talos-yoga.ipynb#ch0000007?line=2'>3</a>\u001b[0m dxs \u001b[39m=\u001b[39m opti\u001b[39m.\u001b[39mvariable(kine_model\u001b[39m.\u001b[39mnx, \u001b[39m1\u001b[39m)\n\u001b[1;32m      <a href='vscode-notebook-cell:/home/aassirelli/devel/learning-projects/talos-yoga/talos-yoga.ipynb#ch0000007?line=4'>5</a>\u001b[0m opti\u001b[39m.\u001b[39mminimize(kine_model\u001b[39m.\u001b[39mcost(dxs[: kine_model\u001b[39m.\u001b[39mnq]))\n\u001b[0;32m----> <a href='vscode-notebook-cell:/home/aassirelli/devel/learning-projects/talos-yoga/talos-yoga.ipynb#ch0000007?line=5'>6</a>\u001b[0m opti\u001b[39m.\u001b[39;49msubject_to(kine_model\u001b[39m.\u001b[39;49mfoot_constraint(cq) \u001b[39m==\u001b[39;49m \u001b[39m0\u001b[39;49m)\n",
      "File \u001b[0;32m/opt/openrobots/lib/python3.8/site-packages/casadi/casadi.py:16476\u001b[0m, in \u001b[0;36mOpti.subject_to\u001b[0;34m(self, *args)\u001b[0m\n\u001b[1;32m  <a href='file:///opt/openrobots/lib/python3.8/site-packages/casadi/casadi.py?line=16473'>16474</a>\u001b[0m frame \u001b[39m=\u001b[39m sys\u001b[39m.\u001b[39m_getframe(\u001b[39m1\u001b[39m)\n\u001b[1;32m  <a href='file:///opt/openrobots/lib/python3.8/site-packages/casadi/casadi.py?line=16474'>16475</a>\u001b[0m meta \u001b[39m=\u001b[39m {\u001b[39m\"\u001b[39m\u001b[39mstacktrace\u001b[39m\u001b[39m\"\u001b[39m: {\u001b[39m\"\u001b[39m\u001b[39mfile\u001b[39m\u001b[39m\"\u001b[39m:os\u001b[39m.\u001b[39mpath\u001b[39m.\u001b[39mabspath(frame\u001b[39m.\u001b[39mf_code\u001b[39m.\u001b[39mco_filename),\u001b[39m\"\u001b[39m\u001b[39mline\u001b[39m\u001b[39m\"\u001b[39m:frame\u001b[39m.\u001b[39mf_lineno,\u001b[39m\"\u001b[39m\u001b[39mname\u001b[39m\u001b[39m\"\u001b[39m:frame\u001b[39m.\u001b[39mf_code\u001b[39m.\u001b[39mco_name}}\n\u001b[0;32m> <a href='file:///opt/openrobots/lib/python3.8/site-packages/casadi/casadi.py?line=16475'>16476</a>\u001b[0m ret \u001b[39m=\u001b[39m \u001b[39mself\u001b[39;49m\u001b[39m.\u001b[39;49m_subject_to(\u001b[39m*\u001b[39;49margs)\n\u001b[1;32m  <a href='file:///opt/openrobots/lib/python3.8/site-packages/casadi/casadi.py?line=16476'>16477</a>\u001b[0m \u001b[39mself\u001b[39m\u001b[39m.\u001b[39mupdate_user_dict(args[\u001b[39m0\u001b[39m], meta)\n\u001b[1;32m  <a href='file:///opt/openrobots/lib/python3.8/site-packages/casadi/casadi.py?line=16477'>16478</a>\u001b[0m \u001b[39mreturn\u001b[39;00m ret\n",
      "File \u001b[0;32m/opt/openrobots/lib/python3.8/site-packages/casadi/casadi.py:15975\u001b[0m, in \u001b[0;36mOpti._subject_to\u001b[0;34m(self, *args)\u001b[0m\n\u001b[1;32m  <a href='file:///opt/openrobots/lib/python3.8/site-packages/casadi/casadi.py?line=15963'>15964</a>\u001b[0m \u001b[39mdef\u001b[39;00m \u001b[39m_subject_to\u001b[39m(\u001b[39mself\u001b[39m, \u001b[39m*\u001b[39margs) \u001b[39m-\u001b[39m\u001b[39m>\u001b[39m \u001b[39m\"\u001b[39m\u001b[39mvoid\u001b[39m\u001b[39m\"\u001b[39m:\n\u001b[1;32m  <a href='file:///opt/openrobots/lib/python3.8/site-packages/casadi/casadi.py?line=15964'>15965</a>\u001b[0m     \u001b[39mr\u001b[39m\u001b[39m\"\"\"\u001b[39;00m\n\u001b[1;32m  <a href='file:///opt/openrobots/lib/python3.8/site-packages/casadi/casadi.py?line=15965'>15966</a>\u001b[0m \u001b[39m    _subject_to(Opti self, MX g)\u001b[39;00m\n\u001b[1;32m  <a href='file:///opt/openrobots/lib/python3.8/site-packages/casadi/casadi.py?line=15966'>15967</a>\u001b[0m \u001b[39m    _subject_to(Opti self, std::vector< casadi::MX,std::allocator< casadi::MX > > const & g)\u001b[39;00m\n\u001b[0;32m   (...)\u001b[0m\n\u001b[1;32m  <a href='file:///opt/openrobots/lib/python3.8/site-packages/casadi/casadi.py?line=15972'>15973</a>\u001b[0m \n\u001b[1;32m  <a href='file:///opt/openrobots/lib/python3.8/site-packages/casadi/casadi.py?line=15973'>15974</a>\u001b[0m \u001b[39m    \"\"\"\u001b[39;00m\n\u001b[0;32m> <a href='file:///opt/openrobots/lib/python3.8/site-packages/casadi/casadi.py?line=15974'>15975</a>\u001b[0m     \u001b[39mreturn\u001b[39;00m _casadi\u001b[39m.\u001b[39;49mOpti__subject_to(\u001b[39mself\u001b[39;49m, \u001b[39m*\u001b[39;49margs)\n",
      "\u001b[0;31mTypeError\u001b[0m: Wrong number or type of arguments for overloaded function 'Opti__subject_to'.\n  Possible C/C++ prototypes are:\n    casadi::Opti::subject_to(casadi::MX const &)\n    casadi::Opti::subject_to(std::vector< casadi::MX,std::allocator< casadi::MX > > const &)\n    casadi::Opti::subject_to()\n"
     ]
    }
   ],
   "source": [
    "opti = casadi.Opti()\n",
    "\n",
    "dxs = opti.variable(kine_model.nx, 1)\n",
    "\n",
    "opti.minimize(kine_model.cost(dxs[: kine_model.nq]))\n",
    "opti.subject_to(kine_model.foot_constraint(cq) == 0)"
   ]
  },
  {
   "cell_type": "code",
   "execution_count": 157,
   "metadata": {},
   "outputs": [
    {
     "name": "stdout",
     "output_type": "stream",
     "text": [
      "\n",
      "******************************************************************************\n",
      "This program contains Ipopt, a library for large-scale nonlinear optimization.\n",
      " Ipopt is released as open source code under the Eclipse Public License (EPL).\n",
      "         For more information visit http://projects.coin-or.org/Ipopt\n",
      "******************************************************************************\n",
      "\n",
      "This is Ipopt version 3.11.9, running with linear solver mumps.\n",
      "NOTE: Other linear solvers might be more efficient (see Ipopt documentation).\n",
      "\n",
      "Number of nonzeros in equality constraint Jacobian...:        0\n",
      "Number of nonzeros in inequality constraint Jacobian.:        0\n",
      "Number of nonzeros in Lagrangian Hessian.............:      777\n",
      "\n",
      "Total number of variables............................:       77\n",
      "                     variables with only lower bounds:        0\n",
      "                variables with lower and upper bounds:        0\n",
      "                     variables with only upper bounds:        0\n",
      "Total number of equality constraints.................:        0\n",
      "Total number of inequality constraints...............:        0\n",
      "        inequality constraints with only lower bounds:        0\n",
      "   inequality constraints with lower and upper bounds:        0\n",
      "        inequality constraints with only upper bounds:        0\n",
      "\n",
      "iter    objective    inf_pr   inf_du lg(mu)  ||d||  lg(rg) alpha_du alpha_pr  ls\n",
      "   0  2.4678278e-02 0.00e+00 3.10e-01  -1.0 0.00e+00    -  0.00e+00 0.00e+00   0\n",
      "   1  2.7404367e-03 0.00e+00 1.03e-01  -1.7 1.03e-01   0.0 1.00e+00 1.00e+00f  1\n",
      "   2  5.5885708e-05 0.00e+00 1.48e-02  -2.5 4.43e-02  -0.5 1.00e+00 1.00e+00f  1\n",
      "   3  1.5468273e-07 0.00e+00 7.78e-04  -3.8 7.00e-03  -1.0 1.00e+00 1.00e+00f  1\n",
      "   4  5.1092509e-11 0.00e+00 1.41e-05  -5.7 3.82e-04  -1.4 1.00e+00 1.00e+00f  1\n",
      "   5  1.9214222e-15 0.00e+00 8.67e-08  -8.6 7.02e-06  -1.9 1.00e+00 1.00e+00f  1\n",
      "   6  8.0948521e-21 0.00e+00 1.78e-10  -8.6 4.33e-08  -2.4 1.00e+00 1.00e+00f  1\n",
      "\n",
      "Number of Iterations....: 6\n",
      "\n",
      "                                   (scaled)                 (unscaled)\n",
      "Objective...............:   8.0948520892491360e-21    8.0948520892491360e-21\n",
      "Dual infeasibility......:   1.7804873640190037e-10    1.7804873640190037e-10\n",
      "Constraint violation....:   0.0000000000000000e+00    0.0000000000000000e+00\n",
      "Complementarity.........:   0.0000000000000000e+00    0.0000000000000000e+00\n",
      "Overall NLP error.......:   1.7804873640190037e-10    1.7804873640190037e-10\n",
      "\n",
      "\n",
      "Number of objective function evaluations             = 7\n",
      "Number of objective gradient evaluations             = 7\n",
      "Number of equality constraint evaluations            = 0\n",
      "Number of inequality constraint evaluations          = 0\n",
      "Number of equality constraint Jacobian evaluations   = 0\n",
      "Number of inequality constraint Jacobian evaluations = 0\n",
      "Number of Lagrangian Hessian evaluations             = 6\n",
      "Total CPU secs in IPOPT (w/o function evaluations)   =      0.006\n",
      "Total CPU secs in NLP function evaluations           =      0.002\n",
      "\n",
      "EXIT: Optimal Solution Found.\n",
      "      solver  :   t_proc      (avg)   t_wall      (avg)    n_eval\n",
      "       nlp_f  |  64.00us (  9.14us)  62.00us (  8.86us)         7\n",
      "  nlp_grad_f  | 115.00us ( 14.37us) 116.91us ( 14.61us)         8\n",
      "  nlp_hess_l  |   2.18ms (363.67us)   2.04ms (340.04us)         6\n",
      "       total  |   9.62ms (  9.62ms)  18.57ms ( 18.57ms)         1\n"
     ]
    },
    {
     "data": {
      "text/plain": [
       "OptiSol(Opti {\n",
       "  instance #18\n",
       "  #variables: 1 (nx = 77)\n",
       "  #parameters: 0 (np = 0)\n",
       "  #constraints: 0 (ng = 0)\n",
       "  CasADi solver allocated.\n",
       "  CasADi solver was called: Solve_Succeeded\n",
       "})"
      ]
     },
     "execution_count": 157,
     "metadata": {},
     "output_type": "execute_result"
    }
   ],
   "source": [
    "opti.solver('ipopt')\n",
    "\n",
    "opti.solve()"
   ]
  },
  {
   "cell_type": "code",
   "execution_count": 158,
   "metadata": {},
   "outputs": [],
   "source": [
    "x_sol = opti.value(dxs)\n",
    "q_sol = x_sol[: kine_model.nq]\n",
    "v_sol = x_sol[kine_model.nq:]"
   ]
  },
  {
   "cell_type": "code",
   "execution_count": 159,
   "metadata": {},
   "outputs": [],
   "source": [
    "viz.display(q_sol)"
   ]
  }
 ],
 "metadata": {
  "interpreter": {
   "hash": "916dbcbb3f70747c44a77c7bcd40155683ae19c65e1c03b4aa3499c5328201f1"
  },
  "kernelspec": {
   "display_name": "Python 3.8.10 64-bit",
   "language": "python",
   "name": "python3"
  },
  "language_info": {
   "codemirror_mode": {
    "name": "ipython",
    "version": 3
   },
   "file_extension": ".py",
   "mimetype": "text/x-python",
   "name": "python",
   "nbconvert_exporter": "python",
   "pygments_lexer": "ipython3",
   "version": "3.8.10"
  },
  "orig_nbformat": 4
 },
 "nbformat": 4,
 "nbformat_minor": 2
}
