{
 "cells": [
  {
   "cell_type": "code",
   "execution_count": 14,
   "metadata": {},
   "outputs": [],
   "source": [
    "import pinocchio as pin\n",
    "from pinocchio import casadi as cpin\n",
    "import casadi\n",
    "import numpy as np\n",
    "import example_robot_data as robex\n",
    "#import matplotlib.pyplot as plt; plt.ion()\n",
    "from pinocchio.visualize import GepettoVisualizer\n",
    "from utils.meshcat_viewer_wrapper import  MeshcatVisualizer, colors"
   ]
  },
  {
   "cell_type": "code",
   "execution_count": 15,
   "metadata": {},
   "outputs": [],
   "source": [
    "robot = robex.load('talos')\n",
    "model = robot.model\n",
    "cmodel = cpin.Model(robot.model)\n",
    "data = model.createData()\n",
    "cdata = cmodel.createData()\n",
    "\n",
    "q0 = robot.q0\n",
    "v0 = np.zeros(robot.nv)\n",
    "a0 = np.zeros(robot.nv)"
   ]
  },
  {
   "cell_type": "code",
   "execution_count": 16,
   "metadata": {},
   "outputs": [],
   "source": [
    "from pinocchio.visualize import GepettoVisualizer\n",
    "\n",
    "### HYPER PARAMETERS\n",
    "# Hyperparameters defining the optimal control problem.\n",
    "T = 10\n",
    "DT = 0.05\n",
    "\n",
    "### LOAD AND DISPLAY SOLO\n",
    "# Load the robot model from example robot data and display it if possible in Gepetto-viewer\n",
    "viz_debug = GepettoVisualizer(robot.model,robot.collision_model,robot.visual_model)\n",
    "viz_debug.initViewer()\n",
    "viz_debug.loadViewerModel()\n",
    "\n",
    "viz_debug.display(robot.q0)"
   ]
  },
  {
   "cell_type": "code",
   "execution_count": 3,
   "metadata": {},
   "outputs": [
    {
     "name": "stdout",
     "output_type": "stream",
     "text": [
      "You can open the visualizer by visiting the following URL:\n",
      "http://127.0.0.1:7000/static/\n"
     ]
    }
   ],
   "source": [
    "viz = MeshcatVisualizer(robot)"
   ]
  },
  {
   "cell_type": "code",
   "execution_count": 4,
   "metadata": {},
   "outputs": [],
   "source": [
    "viz.display(robot.q0)"
   ]
  },
  {
   "cell_type": "code",
   "execution_count": 12,
   "metadata": {},
   "outputs": [],
   "source": [
    "class KineModel:\n",
    "    def __init__ (self, cmodel):\n",
    "        self.cmodel = cmodel\n",
    "        self.cdata = cdata = cmodel.createData()\n",
    "        self.nq, self.nv = cmodel.nq, cmodel.nv\n",
    "        self.nx = self.nq + self.nv\n",
    "        self.ndx = 2* self.nv\n",
    "        nq = self.nq,\n",
    "        nv = self.nv\n",
    "        nx = self.nx\n",
    "        ndx = self.ndx\n",
    "\n",
    "        cx = casadi.SX.sym('cx', nq+nv, 1)\n",
    "        cdx = casadi.SX.sym('cx', 2* nv, 1)\n",
    "        ca = casadi.SX.sym('ca', nv, 1)\n",
    "\n",
    "\n",
    "        self.IDX_LF = IDX_LF = cmodel.getFrameId('leg_left_6_link')\n",
    "        self.IDX_RF = IDX_RF = cmodel.getFrameId('leg_right_6_link')\n",
    "\n",
    "        self.integrate = casadi.Function('integrate', [cx, cdx], [cpin.integrate(cmodel, cx[: nq], cdx[: nv])] )\n",
    "\n",
    "        #self.com_position = casadi.Function('com', [cx], [cpin.centerOfMass(cmodel, cdata, cx[: nq])] )\n",
    "\n",
    "        cpin.forwardKinematics(cmodel, cdata, cx[: nq], cx[nq :], ca)\n",
    "        cpin.updateFramePlacements(cmodel, cdata)        \n",
    "        self.lf_position = casadi.Function('lf', [cq], [cdata.oMf[IDX_LF].translation])\n",
    "        self.rf_position = casadi.Function('rf', [cq], [cdata.oMf[IDX_RF].translation])\n",
    "        self.rf_rotation = casadi.Function('rf', [cq], [cdata.oMf[IDX_RF].rotation])\n",
    "        self.get_T_rf = casadi.Function('T_rf', [cq], [cpin.log6(cpin.SE3(self.rf_rotation(cq), self.rf_position(cq) ) ).vector])\n",
    "\n",
    "    def cost(self, cx):\n",
    "        com_pos = self.com_position(cx[: self.nq])\n",
    "        return com_pos.T @ com_pos \n",
    "\n",
    "    def foot_constraint(self, cx, opti):\n",
    "        opti.subject_to(self.get_T_rf(cx[: self.nq]) == 0)\n",
    "\n",
    "        "
   ]
  },
  {
   "cell_type": "code",
   "execution_count": 13,
   "metadata": {},
   "outputs": [
    {
     "ename": "TypeError",
     "evalue": "can only concatenate tuple (not \"int\") to tuple",
     "output_type": "error",
     "traceback": [
      "\u001b[0;31m---------------------------------------------------------------------------\u001b[0m",
      "\u001b[0;31mTypeError\u001b[0m                                 Traceback (most recent call last)",
      "\u001b[1;32m/home/ale/devel/learning-projects/talos-yoga/talos-yoga.ipynb Cell 7'\u001b[0m in \u001b[0;36m<cell line: 1>\u001b[0;34m()\u001b[0m\n\u001b[0;32m----> <a href='vscode-notebook-cell:/home/ale/devel/learning-projects/talos-yoga/talos-yoga.ipynb#ch0000006?line=0'>1</a>\u001b[0m kine_model \u001b[39m=\u001b[39m KineModel(cmodel)\n\u001b[1;32m      <a href='vscode-notebook-cell:/home/ale/devel/learning-projects/talos-yoga/talos-yoga.ipynb#ch0000006?line=1'>2</a>\u001b[0m kine_model\u001b[39m.\u001b[39mcx[: kine_model\u001b[39m.\u001b[39mnq]\u001b[39m.\u001b[39mshape\n",
      "\u001b[1;32m/home/ale/devel/learning-projects/talos-yoga/talos-yoga.ipynb Cell 6'\u001b[0m in \u001b[0;36mKineModel.__init__\u001b[0;34m(self, cmodel)\u001b[0m\n\u001b[1;32m     <a href='vscode-notebook-cell:/home/ale/devel/learning-projects/talos-yoga/talos-yoga.ipynb#ch0000005?line=9'>10</a>\u001b[0m nx \u001b[39m=\u001b[39m \u001b[39mself\u001b[39m\u001b[39m.\u001b[39mnx\n\u001b[1;32m     <a href='vscode-notebook-cell:/home/ale/devel/learning-projects/talos-yoga/talos-yoga.ipynb#ch0000005?line=10'>11</a>\u001b[0m ndx \u001b[39m=\u001b[39m \u001b[39mself\u001b[39m\u001b[39m.\u001b[39mndx\n\u001b[0;32m---> <a href='vscode-notebook-cell:/home/ale/devel/learning-projects/talos-yoga/talos-yoga.ipynb#ch0000005?line=12'>13</a>\u001b[0m cx \u001b[39m=\u001b[39m casadi\u001b[39m.\u001b[39mSX\u001b[39m.\u001b[39msym(\u001b[39m'\u001b[39m\u001b[39mcx\u001b[39m\u001b[39m'\u001b[39m, nq\u001b[39m+\u001b[39;49mnv, \u001b[39m1\u001b[39m)\n\u001b[1;32m     <a href='vscode-notebook-cell:/home/ale/devel/learning-projects/talos-yoga/talos-yoga.ipynb#ch0000005?line=13'>14</a>\u001b[0m cdx \u001b[39m=\u001b[39m casadi\u001b[39m.\u001b[39mSX\u001b[39m.\u001b[39msym(\u001b[39m'\u001b[39m\u001b[39mcx\u001b[39m\u001b[39m'\u001b[39m, \u001b[39m2\u001b[39m\u001b[39m*\u001b[39m nv, \u001b[39m1\u001b[39m)\n\u001b[1;32m     <a href='vscode-notebook-cell:/home/ale/devel/learning-projects/talos-yoga/talos-yoga.ipynb#ch0000005?line=14'>15</a>\u001b[0m ca \u001b[39m=\u001b[39m casadi\u001b[39m.\u001b[39mSX\u001b[39m.\u001b[39msym(\u001b[39m'\u001b[39m\u001b[39mca\u001b[39m\u001b[39m'\u001b[39m, nv, \u001b[39m1\u001b[39m)\n",
      "\u001b[0;31mTypeError\u001b[0m: can only concatenate tuple (not \"int\") to tuple"
     ]
    }
   ],
   "source": [
    "kine_model = KineModel(cmodel)\n",
    "kine_model.cx[: kine_model.nq].shape"
   ]
  },
  {
   "cell_type": "code",
   "execution_count": 11,
   "metadata": {},
   "outputs": [
    {
     "data": {
      "text/plain": [
       "SX(@1=4.93038e-32, @2=((sq(cx_3)+(sq(cx_4)+sq(cx_5)))+@1), @3=sqrt(@2), @4=0.00012207, @5=(@3<@4), @6=0.5, @7=24, @8=1, @9=((@5?(@6-(@2/@7)):0)+((!@5)?((@8-cos(@3))/@2):0)), @10=(@3<@4), @11=120, @12=((@10?(0.166667-(@2/@11)):0)+((!@10)?(((@3-sin(@3))/@2)/@3):0)), @13=((cx_3*cx_1)-(cx_4*cx_0)), @14=((cx_5*cx_0)-(cx_3*cx_2)), @15=((cx_0+(@9*((cx_4*cx_2)-(cx_5*cx_1))))+(@12*((cx_4*@13)-(cx_5*@14)))), @16=((cx_4*cx_2)-(cx_5*cx_1)), @17=((cx_2+(@9*((cx_3*cx_1)-(cx_4*cx_0))))+(@12*((cx_3*@14)-(cx_4*@16)))), @18=((cx_1+(@9*((cx_5*cx_0)-(cx_3*cx_2))))+(@12*((cx_5*@16)-(cx_3*@13)))), @19=((cx_4*@17)-(cx_5*@18)), @20=(@19+@19), @21=((cx_3*@18)-(cx_4*@15)), @22=(@21+@21), @23=((cx_5*@15)-(cx_3*@17)), @24=(@23+@23), @25=(sq(cx_3)+(sq(cx_4)+sq(cx_5))), @26=(@4<@25), @27=sqrt((@25+@1)), @28=(@6*@27), @29=sin(@28), @30=(@25/4), @31=(@6*((@8-(@30/6))+(sq(@30)/@11))), @32=((@26?(@29*(cx_3/@27)):0)+((!@26)?(@31*cx_3):0)), @33=(@4<@25), @34=2, @35=((@33?cos(@28):0)+((!@33)?((@8-(@30/@34))+(sq(@30)/@7)):0)), @36=(@4<@25), @37=((@36?(@29*(cx_5/@27)):0)+((!@36)?(@31*cx_5):0)), @38=(@4<@25), @39=((@38?(@29*(cx_4/@27)):0)+((!@38)?(@31*cx_4):0)), @40=((((cx_6*@32)+(cx_3*@35))+(cx_4*@37))-(cx_5*@39)), @41=((((cx_6*@39)+(cx_4*@35))+(cx_5*@32))-(cx_3*@37)), @42=((((cx_6*@37)+(cx_5*@35))+(cx_3*@39))-(cx_4*@32)), @43=((((cx_6*@35)-(cx_3*@32))-(cx_4*@39))-(cx_5*@37)), @44=(((@40*cx_3)+(@41*cx_4))+((@42*cx_5)+(@43*cx_6))), @45=0, @46=(@44<@45), @47=((@46?(-@40):0)+((!@46)?@40:0)), @48=(@44<@45), @49=((@48?(-@41):0)+((!@48)?@41:0)), @50=(@44<@45), @51=((@50?(-@42):0)+((!@50)?@42:0)), @52=(@44<@45), @53=((@52?(-@43):0)+((!@52)?@43:0)), @54=((3-((sq(@47)+sq(@49))+(sq(@51)+sq(@53))))/@34), [(((@15+(cx_6*@20))+((cx_4*@22)-(cx_5*@24)))+cx_0), (((@18+(cx_6*@24))+((cx_5*@20)-(cx_3*@22)))+cx_1), (((@17+(cx_6*@22))+((cx_3*@24)-(cx_4*@20)))+cx_2), (@47*@54), (@49*@54), (@51*@54), (@53*@54), (cx_7+cx_6), (cx_8+cx_7), (cx_9+cx_8), (cx_10+cx_9), (cx_11+cx_10), (cx_12+cx_11), (cx_13+cx_12), (cx_14+cx_13), (cx_15+cx_14), (cx_16+cx_15), (cx_17+cx_16), (cx_18+cx_17), (cx_19+cx_18), (cx_20+cx_19), (cx_21+cx_20), (cx_22+cx_21), (cx_23+cx_22), (cx_24+cx_23), (cx_25+cx_24), (cx_26+cx_25), (cx_27+cx_26), (cx_28+cx_27), (cx_29+cx_28), (cx_30+cx_29), (cx_31+cx_30), (cx_32+cx_31), (cx_33+cx_32), (cx_34+cx_33), (cx_35+cx_34), (cx_36+cx_35), (cx_37+cx_36), (cx_38+cx_37)])"
      ]
     },
     "execution_count": 11,
     "metadata": {},
     "output_type": "execute_result"
    }
   ],
   "source": [
    "nq, nv = cmodel.nq, cmodel.nv\n",
    "cx = casadi.SX.sym('cx', nq+nv, 1)\n",
    "cdx = casadi.SX.sym('cx', 2* nv, 1)\n",
    "ca = casadi.SX.sym('ca', nv, 1)\n",
    "\n",
    "#casadi.sumsqr(kine_model.foot_constraint(cq))\n",
    "\n",
    "F = casadi.Function('integrate', [cx, cdx], [cpin.integrate(cmodel, cx[: nq], cdx[: nv])] )\n",
    "F(cx, cdx)\n"
   ]
  },
  {
   "cell_type": "code",
   "execution_count": 45,
   "metadata": {},
   "outputs": [
    {
     "data": {
      "text/plain": [
       "Function(T_rf:(i0[39])->(o0[6]) SXFunction)"
      ]
     },
     "execution_count": 45,
     "metadata": {},
     "output_type": "execute_result"
    }
   ],
   "source": [
    "cq = casadi.MX.sym('cq', robot.nq, 1)\n",
    "cv = casadi.MX.sym('cv', robot.nv, 1)\n",
    "ca = casadi.MX.sym('ca', robot.nv, 1)\n"
   ]
  },
  {
   "cell_type": "code",
   "execution_count": 29,
   "metadata": {},
   "outputs": [],
   "source": [
    "ballId = 'world/ball'\n",
    "viz.display(q0)\n",
    "viz.addSphere(ballId, 0.1, color=colors.red)\n",
    "pose = pin.SE3(kine_model.rf_rotation(q0).full(), kine_model.rf_position(q0).full() )\n",
    "viz.applyConfiguration(ballId, pose)"
   ]
  },
  {
   "cell_type": "code",
   "execution_count": 65,
   "metadata": {},
   "outputs": [],
   "source": [
    "opti = casadi.Opti()\n",
    "\n",
    "dxs = opti.variable(kine_model.nx, 1)\n",
    "\n",
    "opti.minimize(kine_model.cost(dxs[: kine_model.nq]))\n",
    "\n",
    "opti.subject_to(casadi.sumsqr(dxs[3:7]) == 1) \n",
    "kine_model.foot_constraint(dxs[:kine_model.nq], opti)\n"
   ]
  },
  {
   "cell_type": "code",
   "execution_count": 66,
   "metadata": {},
   "outputs": [
    {
     "name": "stdout",
     "output_type": "stream",
     "text": [
      "This is Ipopt version 3.11.9, running with linear solver mumps.\n",
      "NOTE: Other linear solvers might be more efficient (see Ipopt documentation).\n",
      "\n",
      "Number of nonzeros in equality constraint Jacobian...:       73\n",
      "Number of nonzeros in inequality constraint Jacobian.:        0\n",
      "Number of nonzeros in Lagrangian Hessian.............:      777\n",
      "\n",
      "Total number of variables............................:       77\n",
      "                     variables with only lower bounds:        0\n",
      "                variables with lower and upper bounds:        0\n",
      "                     variables with only upper bounds:        0\n",
      "Total number of equality constraints.................:        7\n",
      "Total number of inequality constraints...............:        0\n",
      "        inequality constraints with only lower bounds:        0\n",
      "   inequality constraints with lower and upper bounds:        0\n",
      "        inequality constraints with only upper bounds:        0\n",
      "\n",
      "iter    objective    inf_pr   inf_du lg(mu)  ||d||  lg(rg) alpha_du alpha_pr  ls\n",
      "   0  2.4678278e-02 1.00e+00 3.10e-01  -1.0 0.00e+00    -  0.00e+00 0.00e+00   0\n",
      "   1  6.7548359e-01 1.00e+00 9.76e-01  -1.7 9.76e-01   0.0 1.00e+00 1.00e+00h  1\n",
      "   2  6.7542057e-01 1.00e+00 2.69e+05  -1.7 3.85e-05   9.8 1.00e+00 1.00e+00h  1\n",
      "   3  6.7508130e-01 1.00e+00 4.83e+05  -1.7 2.07e-04   9.4 1.00e+00 1.00e+00h  1\n",
      "   4  6.7490531e-01 1.00e+00 6.68e+05  -1.7 1.07e-04   9.8 1.00e+00 1.00e+00h  1\n",
      "   5  6.7482236e-01 1.00e+00 8.39e+05  -1.7 5.06e-05  10.2 1.00e+00 1.00e+00h  1\n",
      "   6  6.7453644e-01 1.00e+00 9.64e+05  -1.7 1.75e-04   9.7 1.00e+00 1.00e+00h  1\n",
      "   7  6.7441748e-01 1.00e+00 1.07e+06  -1.7 7.27e-05  10.2 1.00e+00 1.00e+00h  1\n",
      "   8  6.7404556e-01 1.00e+00 1.12e+06  -1.7 2.27e-04   9.7 1.00e+00 1.00e+00h  1\n",
      "   9  6.7390334e-01 1.00e+00 1.14e+06  -1.7 8.69e-05  10.1 1.00e+00 1.00e+00h  1\n",
      "iter    objective    inf_pr   inf_du lg(mu)  ||d||  lg(rg) alpha_du alpha_pr  ls\n",
      "  10  6.7384938e-01 1.00e+00 1.15e+06  -1.7 3.30e-05  10.5 1.00e+00 1.00e+00h  1\n",
      "  11  6.7368930e-01 1.00e+00 1.14e+06  -1.7 9.79e-05  10.1 1.00e+00 1.00e+00h  1\n",
      "\n",
      "Number of Iterations....: 12\n",
      "\n",
      "Number of objective function evaluations             = 13\n",
      "Number of objective gradient evaluations             = 13\n",
      "Number of equality constraint evaluations            = 13\n",
      "Number of inequality constraint evaluations          = 0\n",
      "Number of equality constraint Jacobian evaluations   = 13\n",
      "Number of inequality constraint Jacobian evaluations = 0\n",
      "Number of Lagrangian Hessian evaluations             = 13\n",
      "Total CPU secs in IPOPT (w/o function evaluations)   =      0.010\n",
      "Total CPU secs in NLP function evaluations           =      0.013\n",
      "\n",
      "EXIT: Invalid number in NLP function or derivative detected.\n",
      "      solver  :   t_proc      (avg)   t_wall      (avg)    n_eval\n",
      "       nlp_f  |  88.00us (  6.77us)  89.06us (  6.85us)        13\n",
      "       nlp_g  | 152.00us ( 11.69us) 150.36us ( 11.57us)        13\n",
      "  nlp_grad_f  | 216.00us ( 15.43us) 185.50us ( 13.25us)        14\n",
      "  nlp_hess_l  |  11.95ms (919.00us)  11.92ms (916.85us)        13\n",
      "   nlp_jac_g  | 926.00us ( 66.14us) 926.73us ( 66.19us)        14\n",
      "       total  |  24.21ms ( 24.21ms)  23.46ms ( 23.46ms)         1\n"
     ]
    },
    {
     "name": "stderr",
     "output_type": "stream",
     "text": [
      "CasADi - 2022-03-23 09:40:48 WARNING(\"solver:nlp_hess_l failed: NaN detected for output hess_gamma_x_x, at nonzero index 6 (row 3, col 3).\") [.../casadi/core/oracle_function.cpp:265]\n"
     ]
    },
    {
     "ename": "RuntimeError",
     "evalue": "Error in Opti::solve [OptiNode] at .../casadi/core/optistack.cpp:159:\n.../casadi/core/optistack_internal.cpp:997: Assertion \"return_success(accept_limit)\" failed:\nSolver failed. You may use opti.debug.value to investigate the latest values of variables. return_status is 'Invalid_Number_Detected'",
     "output_type": "error",
     "traceback": [
      "\u001b[0;31m---------------------------------------------------------------------------\u001b[0m",
      "\u001b[0;31mRuntimeError\u001b[0m                              Traceback (most recent call last)",
      "\u001b[1;32m/home/ale/devel/learning-projects/talos-yoga/talos-yoga.ipynb Cell 12'\u001b[0m in \u001b[0;36m<cell line: 3>\u001b[0;34m()\u001b[0m\n\u001b[1;32m      <a href='vscode-notebook-cell:/home/ale/devel/learning-projects/talos-yoga/talos-yoga.ipynb#ch0000010?line=0'>1</a>\u001b[0m opti\u001b[39m.\u001b[39msolver(\u001b[39m'\u001b[39m\u001b[39mipopt\u001b[39m\u001b[39m'\u001b[39m)\n\u001b[0;32m----> <a href='vscode-notebook-cell:/home/ale/devel/learning-projects/talos-yoga/talos-yoga.ipynb#ch0000010?line=2'>3</a>\u001b[0m opti\u001b[39m.\u001b[39;49msolve()\n",
      "File \u001b[0;32m/opt/openrobots/lib/python3.8/site-packages/casadi/casadi.py:16043\u001b[0m, in \u001b[0;36mOpti.solve\u001b[0;34m(self, *args)\u001b[0m\n\u001b[1;32m  <a href='file:///opt/openrobots/lib/python3.8/site-packages/casadi/casadi.py?line=16033'>16034</a>\u001b[0m \u001b[39mdef\u001b[39;00m \u001b[39msolve\u001b[39m(\u001b[39mself\u001b[39m, \u001b[39m*\u001b[39margs) \u001b[39m-\u001b[39m\u001b[39m>\u001b[39m \u001b[39m\"\u001b[39m\u001b[39mcasadi::OptiSol\u001b[39m\u001b[39m\"\u001b[39m:\n\u001b[1;32m  <a href='file:///opt/openrobots/lib/python3.8/site-packages/casadi/casadi.py?line=16034'>16035</a>\u001b[0m     \u001b[39mr\u001b[39m\u001b[39m\"\"\"\u001b[39;00m\n\u001b[1;32m  <a href='file:///opt/openrobots/lib/python3.8/site-packages/casadi/casadi.py?line=16035'>16036</a>\u001b[0m \u001b[39m    solve(Opti self) -> OptiSol\u001b[39;00m\n\u001b[1;32m  <a href='file:///opt/openrobots/lib/python3.8/site-packages/casadi/casadi.py?line=16036'>16037</a>\u001b[0m \n\u001b[0;32m   (...)\u001b[0m\n\u001b[1;32m  <a href='file:///opt/openrobots/lib/python3.8/site-packages/casadi/casadi.py?line=16040'>16041</a>\u001b[0m \n\u001b[1;32m  <a href='file:///opt/openrobots/lib/python3.8/site-packages/casadi/casadi.py?line=16041'>16042</a>\u001b[0m \u001b[39m    \"\"\"\u001b[39;00m\n\u001b[0;32m> <a href='file:///opt/openrobots/lib/python3.8/site-packages/casadi/casadi.py?line=16042'>16043</a>\u001b[0m     \u001b[39mreturn\u001b[39;00m _casadi\u001b[39m.\u001b[39;49mOpti_solve(\u001b[39mself\u001b[39;49m, \u001b[39m*\u001b[39;49margs)\n",
      "\u001b[0;31mRuntimeError\u001b[0m: Error in Opti::solve [OptiNode] at .../casadi/core/optistack.cpp:159:\n.../casadi/core/optistack_internal.cpp:997: Assertion \"return_success(accept_limit)\" failed:\nSolver failed. You may use opti.debug.value to investigate the latest values of variables. return_status is 'Invalid_Number_Detected'"
     ]
    }
   ],
   "source": [
    "opti.solver('ipopt')\n",
    "\n",
    "opti.solve()"
   ]
  },
  {
   "cell_type": "code",
   "execution_count": 67,
   "metadata": {},
   "outputs": [],
   "source": [
    "x_sol = opti.value(dxs)\n",
    "q_sol = x_sol[: kine_model.nq]\n",
    "v_sol = x_sol[kine_model.nq:]"
   ]
  },
  {
   "cell_type": "code",
   "execution_count": 64,
   "metadata": {},
   "outputs": [],
   "source": [
    "viz.display(q_sol)"
   ]
  }
 ],
 "metadata": {
  "interpreter": {
   "hash": "916dbcbb3f70747c44a77c7bcd40155683ae19c65e1c03b4aa3499c5328201f1"
  },
  "kernelspec": {
   "display_name": "Python 3.8.10 64-bit",
   "language": "python",
   "name": "python3"
  },
  "language_info": {
   "codemirror_mode": {
    "name": "ipython",
    "version": 3
   },
   "file_extension": ".py",
   "mimetype": "text/x-python",
   "name": "python",
   "nbconvert_exporter": "python",
   "pygments_lexer": "ipython3",
   "version": "3.8.10"
  },
  "orig_nbformat": 4
 },
 "nbformat": 4,
 "nbformat_minor": 2
}
