{
 "cells": [
  {
   "cell_type": "code",
   "execution_count": 6,
   "metadata": {},
   "outputs": [],
   "source": [
    "import pinocchio as pin\n",
    "from pinocchio import casadi as cpin\n",
    "import casadi\n",
    "import numpy as np\n",
    "import example_robot_data as robex\n",
    "#import matplotlib.pyplot as plt; plt.ion()\n",
    "from pinocchio.visualize import GepettoVisualizer\n",
    "from utils.meshcat_viewer_wrapper import  MeshcatVisualizer"
   ]
  },
  {
   "cell_type": "code",
   "execution_count": 71,
   "metadata": {},
   "outputs": [
    {
     "name": "stdout",
     "output_type": "stream",
     "text": [
      "You can open the visualizer by visiting the following URL:\n",
      "http://127.0.0.1:7002/static/\n"
     ]
    }
   ],
   "source": [
    "robot = robex.load('talos')\n",
    "model = robot.model\n",
    "cmodel = cpin.Model(robot.model)\n",
    "data = model.createData()\n",
    "cdata = cmodel.createData()"
   ]
  },
  {
   "cell_type": "code",
   "execution_count": null,
   "metadata": {},
   "outputs": [],
   "source": [
    "viz = MeshcatVisualizer(robot)"
   ]
  },
  {
   "cell_type": "code",
   "execution_count": 74,
   "metadata": {},
   "outputs": [
    {
     "ename": "ArgumentError",
     "evalue": "Python argument types in\n    pinocchio.pinocchio_pywrap_casadi.framesForwardKinematics(Model, Data, numpy.ndarray)\ndid not match C++ signature:\n    framesForwardKinematics(pinocchio::ModelTpl<casadi::Matrix<casadi::SXElem>, 0, pinocchio::JointCollectionDefaultTpl> model, pinocchio::DataTpl<casadi::Matrix<casadi::SXElem>, 0, pinocchio::JointCollectionDefaultTpl> {lvalue} data, Eigen::MatrixBase<Eigen::Matrix<casadi::Matrix<casadi::SXElem>, -1, 1, 0, -1, 1> > q)",
     "output_type": "error",
     "traceback": [
      "\u001b[0;31m---------------------------------------------------------------------------\u001b[0m",
      "\u001b[0;31mArgumentError\u001b[0m                             Traceback (most recent call last)",
      "\u001b[1;32m/home/ale/devel/projects/talos-yoga/talos-yoga.ipynb Cell 4'\u001b[0m in \u001b[0;36m<cell line: 2>\u001b[0;34m()\u001b[0m\n\u001b[1;32m      <a href='vscode-notebook-cell:/home/ale/devel/projects/talos-yoga/talos-yoga.ipynb#ch0000011?line=0'>1</a>\u001b[0m IDX_LF \u001b[39m=\u001b[39m cmodel\u001b[39m.\u001b[39mgetFrameId(\u001b[39m'\u001b[39m\u001b[39mleg_left_1_link\u001b[39m\u001b[39m'\u001b[39m)\n\u001b[0;32m----> <a href='vscode-notebook-cell:/home/ale/devel/projects/talos-yoga/talos-yoga.ipynb#ch0000011?line=1'>2</a>\u001b[0m cpin\u001b[39m.\u001b[39;49mframesForwardKinematics(cmodel, cdata, robot\u001b[39m.\u001b[39;49mq0)\n",
      "\u001b[0;31mArgumentError\u001b[0m: Python argument types in\n    pinocchio.pinocchio_pywrap_casadi.framesForwardKinematics(Model, Data, numpy.ndarray)\ndid not match C++ signature:\n    framesForwardKinematics(pinocchio::ModelTpl<casadi::Matrix<casadi::SXElem>, 0, pinocchio::JointCollectionDefaultTpl> model, pinocchio::DataTpl<casadi::Matrix<casadi::SXElem>, 0, pinocchio::JointCollectionDefaultTpl> {lvalue} data, Eigen::MatrixBase<Eigen::Matrix<casadi::Matrix<casadi::SXElem>, -1, 1, 0, -1, 1> > q)"
     ]
    }
   ],
   "source": [
    "IDX_LF = cmodel.getFrameId('leg_left_1_link')\n",
    "cpin.framesForwardKinematics(cmodel, cdata, robot.q0)"
   ]
  },
  {
   "cell_type": "code",
   "execution_count": 68,
   "metadata": {},
   "outputs": [
    {
     "name": "stdout",
     "output_type": "stream",
     "text": [
      "0 universe\n",
      "1 root_joint\n",
      "2 base_link\n",
      "3 leg_left_1_joint\n",
      "4 leg_left_1_link\n",
      "5 leg_left_2_joint\n",
      "6 leg_left_2_link\n",
      "7 leg_left_3_joint\n",
      "8 leg_left_3_link\n",
      "9 leg_left_4_joint\n",
      "10 leg_left_4_link\n",
      "11 leg_left_5_joint\n",
      "12 leg_left_5_link\n",
      "13 leg_left_6_joint\n",
      "14 leg_left_6_link\n",
      "15 leg_left_sole_fix_joint\n",
      "16 left_sole_link\n",
      "17 leg_right_1_joint\n",
      "18 leg_right_1_link\n",
      "19 leg_right_2_joint\n",
      "20 leg_right_2_link\n",
      "21 leg_right_3_joint\n",
      "22 leg_right_3_link\n",
      "23 leg_right_4_joint\n",
      "24 leg_right_4_link\n",
      "25 leg_right_5_joint\n",
      "26 leg_right_5_link\n",
      "27 leg_right_6_joint\n",
      "28 leg_right_6_link\n",
      "29 leg_right_sole_fix_joint\n",
      "30 right_sole_link\n",
      "31 torso_1_joint\n",
      "32 torso_1_link\n",
      "33 torso_2_joint\n",
      "34 torso_2_link\n",
      "35 arm_left_1_joint\n",
      "36 arm_left_1_link\n",
      "37 arm_left_2_joint\n",
      "38 arm_left_2_link\n",
      "39 arm_left_3_joint\n",
      "40 arm_left_3_link\n",
      "41 arm_left_4_joint\n",
      "42 arm_left_4_link\n",
      "43 arm_left_5_joint\n",
      "44 arm_left_5_link\n",
      "45 arm_left_6_joint\n",
      "46 arm_left_6_link\n",
      "47 arm_left_7_joint\n",
      "48 arm_left_7_link\n",
      "49 wrist_left_ft_joint\n",
      "50 wrist_left_ft_link\n",
      "51 wrist_left_tool_joint\n",
      "52 wrist_left_ft_tool_link\n",
      "53 gripper_left_base_link_joint\n",
      "54 gripper_left_base_link\n",
      "55 gripper_left_inner_double_joint\n",
      "56 gripper_left_inner_double_link\n",
      "57 gripper_left_fingertip_1_joint\n",
      "58 gripper_left_fingertip_1_link\n",
      "59 gripper_left_fingertip_2_joint\n",
      "60 gripper_left_fingertip_2_link\n",
      "61 gripper_left_inner_single_joint\n",
      "62 gripper_left_inner_single_link\n",
      "63 gripper_left_fingertip_3_joint\n",
      "64 gripper_left_fingertip_3_link\n",
      "65 gripper_left_joint\n",
      "66 gripper_left_motor_double_link\n",
      "67 gripper_left_motor_single_joint\n",
      "68 gripper_left_motor_single_link\n",
      "69 arm_right_1_joint\n",
      "70 arm_right_1_link\n",
      "71 arm_right_2_joint\n",
      "72 arm_right_2_link\n",
      "73 arm_right_3_joint\n",
      "74 arm_right_3_link\n",
      "75 arm_right_4_joint\n",
      "76 arm_right_4_link\n",
      "77 arm_right_5_joint\n",
      "78 arm_right_5_link\n",
      "79 arm_right_6_joint\n",
      "80 arm_right_6_link\n",
      "81 arm_right_7_joint\n",
      "82 arm_right_7_link\n",
      "83 wrist_right_ft_joint\n",
      "84 wrist_right_ft_link\n",
      "85 wrist_right_tool_joint\n",
      "86 wrist_right_ft_tool_link\n",
      "87 gripper_right_base_link_joint\n",
      "88 gripper_right_base_link\n",
      "89 gripper_right_inner_double_joint\n",
      "90 gripper_right_inner_double_link\n",
      "91 gripper_right_fingertip_1_joint\n",
      "92 gripper_right_fingertip_1_link\n",
      "93 gripper_right_fingertip_2_joint\n",
      "94 gripper_right_fingertip_2_link\n",
      "95 gripper_right_inner_single_joint\n",
      "96 gripper_right_inner_single_link\n",
      "97 gripper_right_fingertip_3_joint\n",
      "98 gripper_right_fingertip_3_link\n",
      "99 gripper_right_joint\n",
      "100 gripper_right_motor_double_link\n",
      "101 gripper_right_motor_single_joint\n",
      "102 gripper_right_motor_single_link\n",
      "103 head_1_joint\n",
      "104 head_1_link\n",
      "105 head_2_joint\n",
      "106 head_2_link\n",
      "107 rgbd_joint\n",
      "108 rgbd_link\n",
      "109 rgbd_depth_joint\n",
      "110 rgbd_depth_frame\n",
      "111 rgbd_depth_optical_joint\n",
      "112 rgbd_depth_optical_frame\n",
      "113 rgbd_optical_joint\n",
      "114 rgbd_optical_frame\n",
      "115 rgbd_rgb_joint\n",
      "116 rgbd_rgb_frame\n",
      "117 rgbd_rgb_optical_joint\n",
      "118 rgbd_rgb_optical_frame\n",
      "119 imu_joint\n",
      "120 imu_link\n"
     ]
    }
   ],
   "source": [
    "for i,f in enumerate(cmodel.frames):\n",
    "    print(i, f.name)"
   ]
  },
  {
   "cell_type": "code",
   "execution_count": 72,
   "metadata": {},
   "outputs": [],
   "source": [
    "viz.display(robot.q0)"
   ]
  },
  {
   "cell_type": "code",
   "execution_count": 75,
   "metadata": {},
   "outputs": [],
   "source": [
    "class KineModel:\n",
    "    def __init__ (self, cmodel):\n",
    "        self.cmodel = cmodel\n",
    "        self.cdata = cdata = cmodel.createData()\n",
    "        self.nq, self.nv = cmodel.nq, cmodel.nv\n",
    "        self.nx = self.nq+ self.nv\n",
    "\n",
    "        cq = casadi.SX.sym('cq', self.nq, 1)\n",
    "        cv = casadi.SX.sym('cv', self.nv, 1)\n",
    "        ca = casadi.SX.sym('ca', self.nv, 1)\n",
    "        cx = casadi.vertcat(cq, cv)\n",
    "\n",
    "        IDX_LF = cmodel.getFrameId('leg_left_1_link')\n",
    "\n",
    "        self.com_position = casadi.Function('com', [cq], [cpin.centerOfMass(cmodel, cdata, cq)] )\n",
    "\n",
    "        cpin.framesForwardKinematics(cmodel, cdata, cq, cv, ca)\n",
    "        cpin.updateFramePlacement(cmodel, cdata)\n",
    "\n",
    "        self.lf_position = casadi.Function('lf', [cq], cdata.oMf[IDX_LF].translation)\n",
    "    \n",
    "    def cost(self, cq):\n",
    "        com_pos = self.com_position(cq)\n",
    "        return com_pos.T @ com_pos\n",
    "\n",
    "    #def constraints(self, cq, opti):\n",
    "        "
   ]
  },
  {
   "cell_type": "code",
   "execution_count": 76,
   "metadata": {},
   "outputs": [
    {
     "ename": "ArgumentError",
     "evalue": "Python argument types in\n    pinocchio.pinocchio_pywrap_casadi.framesForwardKinematics(Model, Data, SX, SX, SX)\ndid not match C++ signature:\n    framesForwardKinematics(pinocchio::ModelTpl<casadi::Matrix<casadi::SXElem>, 0, pinocchio::JointCollectionDefaultTpl> model, pinocchio::DataTpl<casadi::Matrix<casadi::SXElem>, 0, pinocchio::JointCollectionDefaultTpl> {lvalue} data, Eigen::MatrixBase<Eigen::Matrix<casadi::Matrix<casadi::SXElem>, -1, 1, 0, -1, 1> > q)",
     "output_type": "error",
     "traceback": [
      "\u001b[0;31m---------------------------------------------------------------------------\u001b[0m",
      "\u001b[0;31mArgumentError\u001b[0m                             Traceback (most recent call last)",
      "\u001b[1;32m/home/ale/devel/projects/talos-yoga/talos-yoga.ipynb Cell 8'\u001b[0m in \u001b[0;36m<cell line: 1>\u001b[0;34m()\u001b[0m\n\u001b[0;32m----> <a href='vscode-notebook-cell:/home/ale/devel/projects/talos-yoga/talos-yoga.ipynb#ch0000004?line=0'>1</a>\u001b[0m kine_model \u001b[39m=\u001b[39m KineModel(cmodel)\n\u001b[1;32m      <a href='vscode-notebook-cell:/home/ale/devel/projects/talos-yoga/talos-yoga.ipynb#ch0000004?line=2'>3</a>\u001b[0m opti \u001b[39m=\u001b[39m casadi\u001b[39m.\u001b[39mOpti()\n\u001b[1;32m      <a href='vscode-notebook-cell:/home/ale/devel/projects/talos-yoga/talos-yoga.ipynb#ch0000004?line=4'>5</a>\u001b[0m dxs \u001b[39m=\u001b[39m opti\u001b[39m.\u001b[39mvariable(kine_model\u001b[39m.\u001b[39mnx, \u001b[39m1\u001b[39m)\n",
      "\u001b[1;32m/home/ale/devel/projects/talos-yoga/talos-yoga.ipynb Cell 7'\u001b[0m in \u001b[0;36mKineModel.__init__\u001b[0;34m(self, cmodel)\u001b[0m\n\u001b[1;32m     <a href='vscode-notebook-cell:/home/ale/devel/projects/talos-yoga/talos-yoga.ipynb#ch0000003?line=12'>13</a>\u001b[0m IDX_LF \u001b[39m=\u001b[39m cmodel\u001b[39m.\u001b[39mgetFrameId(\u001b[39m'\u001b[39m\u001b[39mleg_left_1_link\u001b[39m\u001b[39m'\u001b[39m)\n\u001b[1;32m     <a href='vscode-notebook-cell:/home/ale/devel/projects/talos-yoga/talos-yoga.ipynb#ch0000003?line=14'>15</a>\u001b[0m \u001b[39mself\u001b[39m\u001b[39m.\u001b[39mcom_position \u001b[39m=\u001b[39m casadi\u001b[39m.\u001b[39mFunction(\u001b[39m'\u001b[39m\u001b[39mcom\u001b[39m\u001b[39m'\u001b[39m, [cq], [cpin\u001b[39m.\u001b[39mcenterOfMass(cmodel, cdata, cq)] )\n\u001b[0;32m---> <a href='vscode-notebook-cell:/home/ale/devel/projects/talos-yoga/talos-yoga.ipynb#ch0000003?line=16'>17</a>\u001b[0m cpin\u001b[39m.\u001b[39;49mframesForwardKinematics(cmodel, cdata, cq, cv, ca)\n\u001b[1;32m     <a href='vscode-notebook-cell:/home/ale/devel/projects/talos-yoga/talos-yoga.ipynb#ch0000003?line=17'>18</a>\u001b[0m cpin\u001b[39m.\u001b[39mupdateFramePlacement(cmodel, cdata)\n\u001b[1;32m     <a href='vscode-notebook-cell:/home/ale/devel/projects/talos-yoga/talos-yoga.ipynb#ch0000003?line=19'>20</a>\u001b[0m \u001b[39mself\u001b[39m\u001b[39m.\u001b[39mlf_position \u001b[39m=\u001b[39m casadi\u001b[39m.\u001b[39mFunction(\u001b[39m'\u001b[39m\u001b[39mlf\u001b[39m\u001b[39m'\u001b[39m, [cq], cdata\u001b[39m.\u001b[39moMf[IDX_LF]\u001b[39m.\u001b[39mtranslation)\n",
      "\u001b[0;31mArgumentError\u001b[0m: Python argument types in\n    pinocchio.pinocchio_pywrap_casadi.framesForwardKinematics(Model, Data, SX, SX, SX)\ndid not match C++ signature:\n    framesForwardKinematics(pinocchio::ModelTpl<casadi::Matrix<casadi::SXElem>, 0, pinocchio::JointCollectionDefaultTpl> model, pinocchio::DataTpl<casadi::Matrix<casadi::SXElem>, 0, pinocchio::JointCollectionDefaultTpl> {lvalue} data, Eigen::MatrixBase<Eigen::Matrix<casadi::Matrix<casadi::SXElem>, -1, 1, 0, -1, 1> > q)"
     ]
    }
   ],
   "source": [
    "kine_model = KineModel(cmodel)\n",
    "\n",
    "opti = casadi.Opti()\n",
    "\n",
    "dxs = opti.variable(kine_model.nx, 1)\n",
    "\n",
    "opti.minimize(kine_model.cost(dxs[: kine_model.nq]))"
   ]
  },
  {
   "cell_type": "code",
   "execution_count": 46,
   "metadata": {},
   "outputs": [
    {
     "name": "stdout",
     "output_type": "stream",
     "text": [
      "\n",
      "******************************************************************************\n",
      "This program contains Ipopt, a library for large-scale nonlinear optimization.\n",
      " Ipopt is released as open source code under the Eclipse Public License (EPL).\n",
      "         For more information visit http://projects.coin-or.org/Ipopt\n",
      "******************************************************************************\n",
      "\n",
      "This is Ipopt version 3.11.9, running with linear solver mumps.\n",
      "NOTE: Other linear solvers might be more efficient (see Ipopt documentation).\n",
      "\n",
      "Number of nonzeros in equality constraint Jacobian...:        0\n",
      "Number of nonzeros in inequality constraint Jacobian.:        0\n",
      "Number of nonzeros in Lagrangian Hessian.............:      777\n",
      "\n",
      "Total number of variables............................:       77\n",
      "                     variables with only lower bounds:        0\n",
      "                variables with lower and upper bounds:        0\n",
      "                     variables with only upper bounds:        0\n",
      "Total number of equality constraints.................:        0\n",
      "Total number of inequality constraints...............:        0\n",
      "        inequality constraints with only lower bounds:        0\n",
      "   inequality constraints with lower and upper bounds:        0\n",
      "        inequality constraints with only upper bounds:        0\n",
      "\n",
      "iter    objective    inf_pr   inf_du lg(mu)  ||d||  lg(rg) alpha_du alpha_pr  ls\n",
      "   0  2.4678278e-02 0.00e+00 3.10e-01  -1.0 0.00e+00    -  0.00e+00 0.00e+00   0\n",
      "   1  2.7404367e-03 0.00e+00 1.03e-01  -1.7 1.03e-01   0.0 1.00e+00 1.00e+00f  1\n",
      "   2  5.5885708e-05 0.00e+00 1.48e-02  -2.5 4.43e-02  -0.5 1.00e+00 1.00e+00f  1\n",
      "   3  1.5468273e-07 0.00e+00 7.78e-04  -3.8 7.00e-03  -1.0 1.00e+00 1.00e+00f  1\n",
      "   4  5.1092509e-11 0.00e+00 1.41e-05  -5.7 3.82e-04  -1.4 1.00e+00 1.00e+00f  1\n",
      "   5  1.9214222e-15 0.00e+00 8.67e-08  -8.6 7.02e-06  -1.9 1.00e+00 1.00e+00f  1\n",
      "   6  8.0948521e-21 0.00e+00 1.78e-10  -8.6 4.33e-08  -2.4 1.00e+00 1.00e+00f  1\n",
      "\n",
      "Number of Iterations....: 6\n",
      "\n",
      "                                   (scaled)                 (unscaled)\n",
      "Objective...............:   8.0948520892491360e-21    8.0948520892491360e-21\n",
      "Dual infeasibility......:   1.7804873640190037e-10    1.7804873640190037e-10\n",
      "Constraint violation....:   0.0000000000000000e+00    0.0000000000000000e+00\n",
      "Complementarity.........:   0.0000000000000000e+00    0.0000000000000000e+00\n",
      "Overall NLP error.......:   1.7804873640190037e-10    1.7804873640190037e-10\n",
      "\n",
      "\n",
      "Number of objective function evaluations             = 7\n",
      "Number of objective gradient evaluations             = 7\n",
      "Number of equality constraint evaluations            = 0\n",
      "Number of inequality constraint evaluations          = 0\n",
      "Number of equality constraint Jacobian evaluations   = 0\n",
      "Number of inequality constraint Jacobian evaluations = 0\n",
      "Number of Lagrangian Hessian evaluations             = 6\n",
      "Total CPU secs in IPOPT (w/o function evaluations)   =      0.005\n",
      "Total CPU secs in NLP function evaluations           =      0.003\n",
      "\n",
      "EXIT: Optimal Solution Found.\n",
      "      solver  :   t_proc      (avg)   t_wall      (avg)    n_eval\n",
      "       nlp_f  | 150.00us ( 21.43us) 140.63us ( 20.09us)         7\n",
      "  nlp_grad_f  | 189.00us ( 23.62us) 190.41us ( 23.80us)         8\n",
      "  nlp_hess_l  |   4.15ms (692.50us)   4.10ms (682.83us)         6\n",
      "       total  |  16.94ms ( 16.94ms)  15.39ms ( 15.39ms)         1\n"
     ]
    },
    {
     "data": {
      "text/plain": [
       "OptiSol(Opti {\n",
       "  instance #7\n",
       "  #variables: 1 (nx = 77)\n",
       "  #parameters: 0 (np = 0)\n",
       "  #constraints: 0 (ng = 0)\n",
       "  CasADi solver allocated.\n",
       "  CasADi solver was called: Solve_Succeeded\n",
       "})"
      ]
     },
     "execution_count": 46,
     "metadata": {},
     "output_type": "execute_result"
    }
   ],
   "source": [
    "opti.solver('ipopt')\n",
    "\n",
    "opti.solve()"
   ]
  },
  {
   "cell_type": "code",
   "execution_count": 48,
   "metadata": {},
   "outputs": [],
   "source": [
    "x_sol = opti.value(dxs)\n",
    "q_sol = x_sol[: kine_model.nq]\n",
    "v_sol = x_sol[kine_model.nq:]"
   ]
  },
  {
   "cell_type": "code",
   "execution_count": 49,
   "metadata": {},
   "outputs": [],
   "source": [
    "viz.display(q_sol)"
   ]
  }
 ],
 "metadata": {
  "interpreter": {
   "hash": "916dbcbb3f70747c44a77c7bcd40155683ae19c65e1c03b4aa3499c5328201f1"
  },
  "kernelspec": {
   "display_name": "Python 3.8.10 64-bit",
   "language": "python",
   "name": "python3"
  },
  "language_info": {
   "codemirror_mode": {
    "name": "ipython",
    "version": 3
   },
   "file_extension": ".py",
   "mimetype": "text/x-python",
   "name": "python",
   "nbconvert_exporter": "python",
   "pygments_lexer": "ipython3",
   "version": "3.8.10"
  },
  "orig_nbformat": 4
 },
 "nbformat": 4,
 "nbformat_minor": 2
}
