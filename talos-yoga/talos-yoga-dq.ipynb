{
 "cells": [
  {
   "cell_type": "code",
   "execution_count": 1,
   "metadata": {},
   "outputs": [],
   "source": [
    "import pinocchio as pin\n",
    "from pinocchio import casadi as cpin\n",
    "import casadi\n",
    "import numpy as np\n",
    "import example_robot_data as robex\n",
    "#import matplotlib.pyplot as plt; plt.ion()\n",
    "from pinocchio.visualize import GepettoVisualizer\n",
    "from utils.meshcat_viewer_wrapper import  MeshcatVisualizer, colors"
   ]
  },
  {
   "cell_type": "code",
   "execution_count": 2,
   "metadata": {},
   "outputs": [],
   "source": [
    "robot = robex.load('talos')\n",
    "model = robot.model\n",
    "cmodel = cpin.Model(robot.model)\n",
    "data = model.createData()\n",
    "cdata = cmodel.createData()"
   ]
  },
  {
   "cell_type": "code",
   "execution_count": 3,
   "metadata": {},
   "outputs": [
    {
     "name": "stdout",
     "output_type": "stream",
     "text": [
      "You can open the visualizer by visiting the following URL:\n",
      "http://127.0.0.1:7001/static/\n"
     ]
    }
   ],
   "source": [
    "viz = MeshcatVisualizer(robot)"
   ]
  },
  {
   "cell_type": "code",
   "execution_count": 4,
   "metadata": {},
   "outputs": [],
   "source": [
    "viz.display(robot.q0)"
   ]
  },
  {
   "cell_type": "code",
   "execution_count": 5,
   "metadata": {},
   "outputs": [],
   "source": [
    "q0 = robot.q0\n",
    "v0 = np.zeros(robot.nv)\n",
    "a0 = np.zeros(robot.nv)\n",
    "x0 = np.concatenate([q0, v0])"
   ]
  },
  {
   "cell_type": "code",
   "execution_count": 6,
   "metadata": {},
   "outputs": [],
   "source": [
    "nq = cmodel.nq\n",
    "nv = cmodel.nv\n",
    "nx = nq + nv\n",
    "ndx = nv *2\n",
    "\n",
    "cx = casadi.SX.sym('cx', nx, 1)\n",
    "cdx = casadi.SX.sym('cx', ndx, 1)\n",
    "ca = casadi.SX.sym('ca', nv, 1)\n",
    "xref = casadi.SX.sym('cx', nx, 1)\n",
    "\n",
    "IDX_LF = cmodel.getFrameId('leg_left_6_link')\n",
    "IDX_RF = cmodel.getFrameId('leg_right_6_link')\n",
    "IDX_LG = cmodel.getFrameId('gripper_left_base_link')\n",
    "IDX_RG = cmodel.getFrameId('gripper_right_base_link')\n",
    "\n",
    "integrate = casadi.Function('integrate', [cx, cdx], [ casadi.vertcat(cpin.integrate(cmodel,cx[:nq],cdx[:nv]),\n",
    "                                                        cx[-nv:]+cdx[-nv:]) ] )\n",
    "                                                        \n",
    "com_position = casadi.Function('com', [cx], [cpin.centerOfMass(cmodel, cdata, cx[: nq])] )\n",
    "\n",
    "cpin.forwardKinematics(cmodel, cdata, cx[: nq], cx[nq :], ca)\n",
    "cpin.updateFramePlacements(cmodel, cdata)\n",
    "\n",
    "lf_position = casadi.Function('lf_pos', [cx], [cdata.oMf[IDX_LF].translation])\n",
    "lf_rotation = casadi.Function('lf_rot', [cx], [cdata.oMf[IDX_LF].rotation])\n",
    "rf_position = casadi.Function('rf_pos', [cx], [cdata.oMf[IDX_RF].translation])\n",
    "rf_rotation = casadi.Function('rf_rot', [cx], [cdata.oMf[IDX_RF].rotation])\n",
    "\n",
    "lg_position = casadi.Function('lg_pos', [cx], [cdata.oMf[IDX_LG].translation])\n",
    "lg_rotation = casadi.Function('lg_rot', [cx], [cdata.oMf[IDX_LG].rotation])\n",
    "rg_position = casadi.Function('rg_pos', [cx], [cdata.oMf[IDX_RG].translation])\n",
    "rg_rotation = casadi.Function('rg_rot', [cx], [cdata.oMf[IDX_RG].rotation])\n",
    "\n",
    "\n",
    "# Tried with log method, which probably is more robust, but I was not able to make it work\n",
    "#get_T_rf = casadi.Function('T_rf', [cx], [cpin.log6(cpin.SE3(rf_rotation(cx), rf_position(cx) ) ).vector])\n",
    "\n",
    "\n",
    "# arm_distance = casadi.Function('arm_dist', [cx], [cpin.log6(cpin.SE3(lg_rotation(cx), lg_position(cx) ).inverse() *\n",
    " #                                                       cpin.SE3(rg_rotation(cx), rg_position(cx) )).vector])\n"
   ]
  },
  {
   "cell_type": "code",
   "execution_count": 9,
   "metadata": {},
   "outputs": [],
   "source": [
    "opti = casadi.Opti()\n",
    "\n",
    "dxs = opti.variable(ndx)\n",
    "xs = integrate(x0, dxs)\n",
    "\n",
    "cost = casadi.sumsqr(xs - x0)  #+ casadi.sumsqr(arm_distance(xs))\n",
    "\n",
    "opti.minimize(cost)\n",
    "\n",
    "# COM\n",
    "opti.subject_to(opti.bounded(-0.08, com_position(xs)[0], 0.08))\n",
    "opti.subject_to(opti.bounded(-0.02, com_position(xs)[1], 0.02))\n",
    "opti.subject_to(opti.bounded(0.7, com_position(xs)[2], 0.9))\n",
    "\n",
    "# Standing foot\n",
    "opti.subject_to(rf_position(xs) - rf_position(x0) == 0)\n",
    "opti.subject_to(rf_rotation(xs) - rf_rotation(x0) == 0)\n",
    "\n",
    "# Free foot\n",
    "opti.subject_to(lf_position(xs)[2] >= 0.4)\n",
    "opti.subject_to(opti.bounded(0.05, lf_position(xs)[0:2], 0.1))\n",
    "\n",
    "r_ref = pin.utils.rotate('z', 3.14 / 2) @ pin.utils.rotate('y', 3.14 / 2) # orientation target\n",
    "opti.subject_to(opti.bounded(-0.0, lf_rotation(xs) - r_ref, 0.0))\n"
   ]
  },
  {
   "cell_type": "code",
   "execution_count": 10,
   "metadata": {},
   "outputs": [
    {
     "name": "stdout",
     "output_type": "stream",
     "text": [
      "\n",
      "******************************************************************************\n",
      "This program contains Ipopt, a library for large-scale nonlinear optimization.\n",
      " Ipopt is released as open source code under the Eclipse Public License (EPL).\n",
      "         For more information visit http://projects.coin-or.org/Ipopt\n",
      "******************************************************************************\n",
      "\n",
      "This is Ipopt version 3.11.9, running with linear solver mumps.\n",
      "NOTE: Other linear solvers might be more efficient (see Ipopt documentation).\n",
      "\n",
      "Number of nonzeros in equality constraint Jacobian...:      186\n",
      "Number of nonzeros in inequality constraint Jacobian.:      144\n",
      "Number of nonzeros in Lagrangian Hessian.............:      311\n",
      "\n",
      "Total number of variables............................:       76\n",
      "                     variables with only lower bounds:        0\n",
      "                variables with lower and upper bounds:        0\n",
      "                     variables with only upper bounds:        0\n",
      "Total number of equality constraints.................:       21\n",
      "Total number of inequality constraints...............:        6\n",
      "        inequality constraints with only lower bounds:        1\n",
      "   inequality constraints with lower and upper bounds:        5\n",
      "        inequality constraints with only upper bounds:        0\n",
      "\n",
      "iter    objective    inf_pr   inf_du lg(mu)  ||d||  lg(rg) alpha_du alpha_pr  ls\n",
      "   0  0.0000000e+00 1.00e+00 1.00e+00  -1.0 0.00e+00    -  0.00e+00 0.00e+00   0\n",
      "   1  1.5305207e-02 9.98e-01 4.11e+06  -1.7 7.73e-01    -  7.54e-01 1.01e-01h  1\n",
      "   2  1.5362211e-02 9.98e-01 4.12e+06  -1.7 3.57e-01   8.0 1.82e-01 6.26e-04h  1\n",
      "   3r 1.5362211e-02 9.98e-01 1.00e+03  -0.0 0.00e+00   7.5 0.00e+00 3.34e-07R  9\n",
      "   4r 4.3783862e-01 9.97e-01 9.93e+02  -0.0 8.09e+01    -  7.67e-02 5.67e-03f  1\n",
      "   5r 7.9761943e-01 9.75e-01 8.86e+02  -0.0 1.75e+00   2.0 1.75e-01 1.21e-01f  1\n",
      "   6r 1.0773800e+00 8.69e-01 9.02e+02  -0.0 4.39e+00   2.4 5.72e-02 5.81e-02f  1\n",
      "   7  2.6251105e+00 3.90e-01 2.67e+08  -1.7 4.24e-01    -  1.00e+00 1.00e+00h  1\n",
      "   8  2.6706802e+00 3.58e-01 2.65e+08  -1.7 3.11e-01   8.9 5.08e-02 3.72e-02h  1\n",
      "   9  2.6710001e+00 3.58e-01 2.65e+08  -1.7 1.02e+00   8.4 2.23e-01 1.50e-04h  1\n",
      "iter    objective    inf_pr   inf_du lg(mu)  ||d||  lg(rg) alpha_du alpha_pr  ls\n",
      "  10  2.6712699e+00 3.58e-01 2.65e+08  -1.7 3.09e-01   8.8 1.06e-01 2.20e-04h  1\n",
      "  11  3.0514168e+00 1.56e-01 2.47e+08  -1.7 1.51e+00   8.3 3.33e-01 1.25e-01h  1\n",
      "  12  3.3044733e+00 5.45e-02 1.81e+07  -1.7 1.89e-01   8.7 2.78e-01 1.00e+00H  1\n",
      "  13  3.3006312e+00 4.46e-02 1.53e+07  -1.7 3.74e-02   8.3 1.00e+00 1.93e-01h  1\n",
      "  14  3.3007423e+00 4.45e-02 1.53e+07  -1.7 8.62e-02   7.8 9.34e-01 1.77e-03h  1\n",
      "  15  3.3011903e+00 4.44e-02 1.76e+07  -1.7 1.55e-01   7.3 1.00e+00 2.36e-03h  1\n",
      "  16  3.3236130e+00 3.31e-02 1.20e+07  -1.7 9.21e-02   7.7 1.00e+00 2.37e-01h  1\n",
      "  17  3.3239750e+00 3.31e-02 1.77e+07  -1.7 1.39e-01   7.3 1.00e+00 1.85e-03h  1\n",
      "  18  3.3249837e+00 3.27e-02 1.19e+07  -1.7 7.40e-02   7.7 1.00e+00 9.50e-03h  1\n",
      "  19  3.6238383e+00 2.47e-02 2.92e+06  -1.7 1.46e-01   7.2 3.67e-01 1.00e+00h  1\n",
      "iter    objective    inf_pr   inf_du lg(mu)  ||d||  lg(rg) alpha_du alpha_pr  ls\n",
      "  20  3.6967097e+00 2.14e-02 2.07e+06  -1.7 1.24e-01   6.7 4.07e-01 4.39e-01h  1\n",
      "  21  3.6969732e+00 2.14e-02 2.01e+06  -1.7 8.00e-01   6.3 4.55e-03 1.09e-03h  1\n",
      "  22  3.6969780e+00 2.14e-02 2.01e+06  -1.7 7.58e-02   6.7 1.03e-04 7.76e-05h  1\n",
      "  23  3.7402186e+00 1.41e-02 1.07e+07  -1.7 4.51e-02   7.1 1.17e-05 1.00e+00f  1\n",
      "  24  3.6114641e+00 3.01e-03 1.47e+06  -1.7 4.39e-02   6.6 9.08e-01 1.00e+00h  1\n",
      "  25  3.2469508e+00 2.94e-03 1.59e+06  -1.7 9.22e-02   6.2 4.60e-02 9.99e-01f  1\n",
      "  26  3.2434432e+00 2.87e-03 1.48e+06  -1.7 3.09e-02   5.7 5.85e-01 2.75e-02h  1\n",
      "  27  3.2427376e+00 2.87e-03 1.59e+06  -1.7 3.53e+00   5.2 1.46e-02 9.66e-05h  1\n",
      "  28  3.1955296e+00 2.47e-03 8.68e+05  -1.7 3.27e-02   5.6 6.96e-01 4.29e-01f  1\n",
      "  29  3.1628486e+00 3.31e-03 6.37e+03  -1.7 1.29e-02   5.2 1.00e+00 1.00e+00f  1\n",
      "iter    objective    inf_pr   inf_du lg(mu)  ||d||  lg(rg) alpha_du alpha_pr  ls\n",
      "  30  3.2076969e+00 1.18e-04 1.72e+03  -1.7 1.45e-02   4.7 6.86e-01 1.00e+00h  1\n",
      "  31  3.2078870e+00 1.90e-06 7.10e+00  -2.5 1.27e-04   4.2 9.99e-01 1.00e+00h  1\n",
      "  32  3.2073635e+00 3.79e-08 1.16e+00  -3.8 2.17e-04   3.7 1.00e+00 1.00e+00h  1\n",
      "  33  3.0841683e+00 1.43e-04 6.79e+03  -5.7 6.33e-01    -  2.47e-01 1.14e-01f  1\n",
      "  34  3.0832589e+00 1.60e-08 2.12e+01  -5.7 2.21e-04   4.1 1.76e-01 1.00e+00h  1\n",
      "  35  3.0826294e+00 5.63e-09 5.30e+00  -5.7 2.56e-04   3.7 1.00e+00 7.44e-01f  1\n",
      "  36  3.0813989e+00 1.09e-07 1.15e+01  -5.7 1.59e-01    -  1.00e+00 6.99e-03f  1\n",
      "  37  3.0444376e+00 2.14e-04 4.83e+03  -5.7 1.50e-01    -  1.00e+00 3.29e-01f  1\n",
      "  38  3.0452906e+00 1.73e-04 3.96e+03  -5.7 7.24e-03   3.2 1.04e-04 1.93e-01h  1\n",
      "  39  3.0458499e+00 5.20e-05 1.19e+03  -5.7 1.93e-04   3.6 1.00e+00 6.99e-01h  1\n",
      "iter    objective    inf_pr   inf_du lg(mu)  ||d||  lg(rg) alpha_du alpha_pr  ls\n",
      "  40  3.0458994e+00 1.02e-08 4.41e-01  -5.7 1.94e-04   3.1 9.41e-01 1.00e+00h  1\n",
      "  41  3.0449927e+00 2.37e-07 9.32e+00  -5.7 8.09e-02    -  1.00e+00 1.87e-02f  1\n",
      "  42  3.0239491e+00 4.91e-04 6.15e+03  -5.7 7.62e-02    -  1.00e+00 9.80e-01f  1\n",
      "  43  3.0242893e+00 3.96e-04 4.97e+03  -5.7 1.04e-03   3.6 4.10e-01 1.93e-01h  1\n",
      "  44  3.0253715e+00 1.79e-04 2.25e+03  -5.7 9.89e-04   4.0 5.49e-01 5.47e-01h  1\n",
      "  45  3.0260475e+00 3.07e-08 1.44e+00  -5.7 4.19e-04   3.5 9.48e-01 1.00e+00h  1\n",
      "  46  3.0257292e+00 4.14e-08 1.56e+00  -5.7 4.23e-01    -  3.17e-01 4.73e-04f  1\n",
      "  47  3.0255781e+00 1.57e-04 7.96e+03  -5.7 2.00e-02    -  1.00e+00 1.00e+00f  1\n",
      "  48  3.0253714e+00 6.26e-09 9.45e-01  -5.7 1.07e-04   3.9 1.00e+00 1.00e+00h  1\n",
      "  49  3.0246028e+00 1.47e-07 5.23e+00  -5.7 1.86e-02    -  1.00e+00 2.70e-02f  1\n",
      "iter    objective    inf_pr   inf_du lg(mu)  ||d||  lg(rg) alpha_du alpha_pr  ls\n",
      "  50  3.0245754e+00 5.17e-07 1.76e+00  -5.7 2.10e-03    -  1.00e+00 1.00e+00f  1\n",
      "  51  3.0245659e+00 1.35e-07 5.83e+00  -5.7 5.73e-04    -  1.00e+00 1.00e+00h  1\n",
      "  52  3.0245659e+00 2.04e-12 1.53e-03  -5.7 5.22e-07   3.5 1.00e+00 1.00e+00h  1\n",
      "  53  3.0245569e+00 1.06e-08 6.69e-01  -8.6 2.16e-04    -  1.00e+00 9.99e-01f  1\n",
      "  54  3.0245567e+00 9.85e-13 5.42e-05  -8.6 1.47e-06    -  1.00e+00 1.00e+00f  1\n",
      "\n",
      "Number of Iterations....: 54\n",
      "\n",
      "                                   (scaled)                 (unscaled)\n",
      "Objective...............:   3.0245567488052973e+00    3.0245567488052973e+00\n",
      "Dual infeasibility......:   5.4230629588827850e-05    5.4230629588827850e-05\n",
      "Constraint violation....:   9.8505173176929102e-13    9.8505173176929102e-13\n",
      "Complementarity.........:   2.5124959012382589e-09    2.5124959012382589e-09\n",
      "Overall NLP error.......:   2.5124959012382589e-09    5.4230629588827850e-05\n",
      "\n",
      "\n",
      "Number of objective function evaluations             = 65\n",
      "Number of objective gradient evaluations             = 53\n",
      "Number of equality constraint evaluations            = 65\n",
      "Number of inequality constraint evaluations          = 65\n",
      "Number of equality constraint Jacobian evaluations   = 56\n",
      "Number of inequality constraint Jacobian evaluations = 56\n",
      "Number of Lagrangian Hessian evaluations             = 54\n",
      "Total CPU secs in IPOPT (w/o function evaluations)   =      0.044\n",
      "Total CPU secs in NLP function evaluations           =      0.055\n",
      "\n",
      "EXIT: Optimal Solution Found.\n",
      "      solver  :   t_proc      (avg)   t_wall      (avg)    n_eval\n",
      "       nlp_f  | 286.00us (  4.40us) 287.98us (  4.43us)        65\n",
      "       nlp_g  |   1.90ms ( 29.18us)   1.88ms ( 28.87us)        65\n",
      "  nlp_grad_f  | 575.00us ( 10.65us) 583.61us ( 10.81us)        54\n",
      "  nlp_hess_l  |  44.74ms (844.08us)  44.63ms (841.99us)        53\n",
      "   nlp_jac_g  |  13.98ms (245.26us)  14.02ms (245.90us)        57\n",
      "       total  | 112.13ms (112.13ms) 108.92ms (108.92ms)         1\n"
     ]
    },
    {
     "data": {
      "text/plain": [
       "OptiSol(Opti {\n",
       "  instance #1\n",
       "  #variables: 1 (nx = 76)\n",
       "  #parameters: 0 (np = 0)\n",
       "  #constraints: 8 (ng = 27)\n",
       "  CasADi solver allocated.\n",
       "  CasADi solver was called: Solve_Succeeded\n",
       "})"
      ]
     },
     "execution_count": 10,
     "metadata": {},
     "output_type": "execute_result"
    }
   ],
   "source": [
    "opti.solver('ipopt')\n",
    "opti.set_initial(dxs, np.zeros(ndx))\n",
    "opti.solve()"
   ]
  },
  {
   "cell_type": "code",
   "execution_count": 11,
   "metadata": {},
   "outputs": [],
   "source": [
    "x_sol = integrate(x0, opti.value(dxs)).full()\n",
    "q_sol = x_sol[: nq]\n",
    "v_sol = x_sol[nq:]"
   ]
  },
  {
   "cell_type": "code",
   "execution_count": 12,
   "metadata": {},
   "outputs": [],
   "source": [
    "viz.display(q_sol)"
   ]
  },
  {
   "cell_type": "code",
   "execution_count": 13,
   "metadata": {},
   "outputs": [
    {
     "data": {
      "text/html": [
       "\n",
       "            <div style=\"height: 400px; width: 100%; overflow-x: auto; overflow-y: hidden; resize: both\">\n",
       "            <iframe src=\"http://127.0.0.1:7001/static/\" style=\"width: 100%; height: 100%; border: none\"></iframe>\n",
       "            </div>\n",
       "            "
      ],
      "text/plain": [
       "<IPython.core.display.HTML object>"
      ]
     },
     "execution_count": 13,
     "metadata": {},
     "output_type": "execute_result"
    }
   ],
   "source": [
    "hasattr(viz.viewer, 'jupyter_cell') and viz.viewer.jupyter_cell()"
   ]
  }
 ],
 "metadata": {
  "interpreter": {
   "hash": "916dbcbb3f70747c44a77c7bcd40155683ae19c65e1c03b4aa3499c5328201f1"
  },
  "kernelspec": {
   "display_name": "Python 3.8.10 64-bit",
   "language": "python",
   "name": "python3"
  },
  "language_info": {
   "codemirror_mode": {
    "name": "ipython",
    "version": 3
   },
   "file_extension": ".py",
   "mimetype": "text/x-python",
   "name": "python",
   "nbconvert_exporter": "python",
   "pygments_lexer": "ipython3",
   "version": "3.8.10"
  },
  "orig_nbformat": 4
 },
 "nbformat": 4,
 "nbformat_minor": 2
}
