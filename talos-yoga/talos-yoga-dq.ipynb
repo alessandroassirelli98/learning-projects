{
 "cells": [
  {
   "cell_type": "code",
   "execution_count": 1,
   "metadata": {},
   "outputs": [],
   "source": [
    "import pinocchio as pin\n",
    "from pinocchio import casadi as cpin\n",
    "import casadi\n",
    "import numpy as np\n",
    "import example_robot_data as robex\n",
    "#import matplotlib.pyplot as plt; plt.ion()\n",
    "from pinocchio.visualize import GepettoVisualizer\n",
    "from utils.meshcat_viewer_wrapper import  MeshcatVisualizer, colors"
   ]
  },
  {
   "cell_type": "code",
   "execution_count": 2,
   "metadata": {},
   "outputs": [],
   "source": [
    "robot = robex.load('talos')\n",
    "model = robot.model\n",
    "cmodel = cpin.Model(robot.model)\n",
    "data = model.createData()\n",
    "cdata = cmodel.createData()"
   ]
  },
  {
   "cell_type": "code",
   "execution_count": 3,
   "metadata": {},
   "outputs": [
    {
     "name": "stdout",
     "output_type": "stream",
     "text": [
      "You can open the visualizer by visiting the following URL:\n",
      "http://127.0.0.1:7001/static/\n"
     ]
    }
   ],
   "source": [
    "viz = MeshcatVisualizer(robot)"
   ]
  },
  {
   "cell_type": "code",
   "execution_count": 4,
   "metadata": {},
   "outputs": [],
   "source": [
    "viz.display(robot.q0)"
   ]
  },
  {
   "cell_type": "code",
   "execution_count": 80,
   "metadata": {},
   "outputs": [],
   "source": [
    "q0 = robot.q0\n",
    "v0 = np.zeros(robot.nv)\n",
    "a0 = np.zeros(robot.nv)\n",
    "x0 = np.concatenate([q0, v0])"
   ]
  },
  {
   "cell_type": "code",
   "execution_count": 243,
   "metadata": {},
   "outputs": [],
   "source": [
    "nq = cmodel.nq\n",
    "nv = cmodel.nv\n",
    "nx = nq + nv\n",
    "ndx = nv *2\n",
    "\n",
    "cx = casadi.SX.sym('cx', nx, 1)\n",
    "cdx = casadi.SX.sym('cx', ndx, 1)\n",
    "ca = casadi.SX.sym('ca', nv, 1)\n",
    "xref = casadi.SX.sym('cx', nx, 1)\n",
    "\n",
    "IDX_LF = cmodel.getFrameId('leg_left_6_link')\n",
    "IDX_RF = cmodel.getFrameId('leg_right_6_link')\n",
    "IDX_LG = cmodel.getFrameId('gripper_left_base_link')\n",
    "IDX_RG = cmodel.getFrameId('gripper_right_base_link')\n",
    "\n",
    "integrate = casadi.Function('integrate', [cx, cdx], [ casadi.vertcat(cpin.integrate(cmodel,cx[:nq],cdx[:nv]),\n",
    "                                                        cx[-nv:]+cdx[-nv:]) ] )\n",
    "                                                        \n",
    "com_position = casadi.Function('com', [cx], [cpin.centerOfMass(cmodel, cdata, cx[: nq])] )\n",
    "\n",
    "cpin.forwardKinematics(cmodel, cdata, cx[: nq], cx[nq :], ca)\n",
    "cpin.updateFramePlacements(cmodel, cdata)\n",
    "\n",
    "lf_position = casadi.Function('lf_pos', [cx], [cdata.oMf[IDX_LF].translation])\n",
    "lf_rotation = casadi.Function('lf_rot', [cx], [cdata.oMf[IDX_LF].rotation])\n",
    "rf_position = casadi.Function('rf_pos', [cx], [cdata.oMf[IDX_RF].translation])\n",
    "rf_rotation = casadi.Function('rf_rot', [cx], [cdata.oMf[IDX_RF].rotation])\n",
    "\n",
    "lg_position = casadi.Function('lg_pos', [cx], [cdata.oMf[IDX_LG].translation])\n",
    "lg_rotation = casadi.Function('lg_rot', [cx], [cdata.oMf[IDX_LG].rotation])\n",
    "rg_position = casadi.Function('rg_pos', [cx], [cdata.oMf[IDX_RG].translation])\n",
    "rg_rotation = casadi.Function('rg_rot', [cx], [cdata.oMf[IDX_RG].rotation])\n",
    "\n",
    "\n",
    "# Tried with log method, which probably is more robust, but I was not able to make it work\n",
    "#get_T_rf = casadi.Function('T_rf', [cx], [cpin.log6(cpin.SE3(rf_rotation(cx), rf_position(cx) ) ).vector])\n",
    "\n",
    "\n",
    "# arm_distance = casadi.Function('arm_dist', [cx], [cpin.log6(cpin.SE3(lg_rotation(cx), lg_position(cx) ).inverse() *\n",
    " #                                                       cpin.SE3(rg_rotation(cx), rg_position(cx) )).vector])\n"
   ]
  },
  {
   "cell_type": "code",
   "execution_count": 244,
   "metadata": {},
   "outputs": [],
   "source": [
    "opti = casadi.Opti()\n",
    "\n",
    "dxs = opti.variable(ndx)\n",
    "xs = integrate(x0, dxs)\n",
    "\n",
    "cost = casadi.sumsqr(xs - x0) + casadi.sumsqr(arm_distance(xs))\n",
    "#casadi.sumsqr(lg_position(xs) - rg_position(xs) - 0.2)\n",
    "\n",
    "opti.minimize(cost)\n",
    "\n",
    "# COM\n",
    "opti.subject_to(opti.bounded(-0.08, com_position(xs)[0], 0.08))\n",
    "opti.subject_to(opti.bounded(-0.02, com_position(xs)[1], 0.02))\n",
    "opti.subject_to(opti.bounded(0.7, com_position(xs)[2], 0.9))\n",
    "\n",
    "# Standing foot\n",
    "opti.subject_to(rf_position(xs) - rf_position(x0) == 0)\n",
    "opti.subject_to(rf_rotation(xs) - rf_rotation(x0) == 0)\n",
    "\n",
    "# Free foot\n",
    "opti.subject_to(lf_position(xs)[2] >= 0.4)\n",
    "opti.subject_to(opti.bounded(0.05, lf_position(xs)[0:2], 0.1))\n",
    "\n",
    "r_ref = pin.utils.rotate('z', 3.14 / 2) @ pin.utils.rotate('y', 3.14 / 2) # orientation target\n",
    "opti.subject_to(opti.bounded(-0.0, lf_rotation(xs) - r_ref, 0.0))\n"
   ]
  },
  {
   "cell_type": "code",
   "execution_count": 245,
   "metadata": {},
   "outputs": [
    {
     "name": "stdout",
     "output_type": "stream",
     "text": [
      "This is Ipopt version 3.11.9, running with linear solver mumps.\n",
      "NOTE: Other linear solvers might be more efficient (see Ipopt documentation).\n",
      "\n",
      "Number of nonzeros in equality constraint Jacobian...:      186\n",
      "Number of nonzeros in inequality constraint Jacobian.:      144\n",
      "Number of nonzeros in Lagrangian Hessian.............:      408\n",
      "\n",
      "Error evaluating objective gradient at user provided starting point.\n",
      "  No scaling factor for objective function computed!\n",
      "\n",
      "Number of Iterations....: 0\n",
      "\n",
      "Number of objective function evaluations             = 0\n",
      "Number of objective gradient evaluations             = 1\n",
      "Number of equality constraint evaluations            = 0\n",
      "Number of inequality constraint evaluations          = 1\n",
      "Number of equality constraint Jacobian evaluations   = 1\n",
      "Number of inequality constraint Jacobian evaluations = 1\n",
      "Number of Lagrangian Hessian evaluations             = 0\n",
      "Total CPU secs in IPOPT (w/o function evaluations)   =      0.001\n",
      "Total CPU secs in NLP function evaluations           =      0.000\n",
      "\n",
      "EXIT: Invalid number in NLP function or derivative detected.\n",
      "      solver  :   t_proc      (avg)   t_wall      (avg)    n_eval\n",
      "       nlp_g  |  20.00us ( 20.00us)  20.48us ( 20.48us)         1\n",
      "  nlp_grad_f  | 367.00us (183.50us) 257.56us (128.78us)         2\n",
      "   nlp_jac_g  | 438.00us (219.00us) 438.46us (219.23us)         2\n",
      "       total  |   1.70ms (  1.70ms)   1.44ms (  1.44ms)         1\n"
     ]
    },
    {
     "name": "stderr",
     "output_type": "stream",
     "text": [
      "CasADi - 2022-03-23 15:25:56 WARNING(\"solver:nlp_grad_f failed: NaN detected for output grad_f_x, at (row 3, col 0).\") [.../casadi/core/oracle_function.cpp:265]\n",
      "CasADi - 2022-03-23 15:25:56 WARNING(\"solver:nlp_grad_f failed: NaN detected for output grad_f_x, at (row 3, col 0).\") [.../casadi/core/oracle_function.cpp:265]\n"
     ]
    },
    {
     "ename": "RuntimeError",
     "evalue": "Error in Opti::solve [OptiNode] at .../casadi/core/optistack.cpp:159:\n.../casadi/core/optistack_internal.cpp:997: Assertion \"return_success(accept_limit)\" failed:\nSolver failed. You may use opti.debug.value to investigate the latest values of variables. return_status is 'Invalid_Number_Detected'",
     "output_type": "error",
     "traceback": [
      "\u001b[0;31m---------------------------------------------------------------------------\u001b[0m",
      "\u001b[0;31mRuntimeError\u001b[0m                              Traceback (most recent call last)",
      "\u001b[1;32m/home/ale/devel/learning-projects/talos-yoga/talos-yoga-dq.ipynb Cell 8'\u001b[0m in \u001b[0;36m<cell line: 3>\u001b[0;34m()\u001b[0m\n\u001b[1;32m      <a href='vscode-notebook-cell:/home/ale/devel/learning-projects/talos-yoga/talos-yoga-dq.ipynb#ch0000007?line=0'>1</a>\u001b[0m opti\u001b[39m.\u001b[39msolver(\u001b[39m'\u001b[39m\u001b[39mipopt\u001b[39m\u001b[39m'\u001b[39m)\n\u001b[1;32m      <a href='vscode-notebook-cell:/home/ale/devel/learning-projects/talos-yoga/talos-yoga-dq.ipynb#ch0000007?line=1'>2</a>\u001b[0m opti\u001b[39m.\u001b[39mset_initial(dxs, np\u001b[39m.\u001b[39mzeros(ndx))\n\u001b[0;32m----> <a href='vscode-notebook-cell:/home/ale/devel/learning-projects/talos-yoga/talos-yoga-dq.ipynb#ch0000007?line=2'>3</a>\u001b[0m opti\u001b[39m.\u001b[39;49msolve()\n",
      "File \u001b[0;32m/opt/openrobots/lib/python3.8/site-packages/casadi/casadi.py:16043\u001b[0m, in \u001b[0;36mOpti.solve\u001b[0;34m(self, *args)\u001b[0m\n\u001b[1;32m  <a href='file:///opt/openrobots/lib/python3.8/site-packages/casadi/casadi.py?line=16033'>16034</a>\u001b[0m \u001b[39mdef\u001b[39;00m \u001b[39msolve\u001b[39m(\u001b[39mself\u001b[39m, \u001b[39m*\u001b[39margs) \u001b[39m-\u001b[39m\u001b[39m>\u001b[39m \u001b[39m\"\u001b[39m\u001b[39mcasadi::OptiSol\u001b[39m\u001b[39m\"\u001b[39m:\n\u001b[1;32m  <a href='file:///opt/openrobots/lib/python3.8/site-packages/casadi/casadi.py?line=16034'>16035</a>\u001b[0m     \u001b[39mr\u001b[39m\u001b[39m\"\"\"\u001b[39;00m\n\u001b[1;32m  <a href='file:///opt/openrobots/lib/python3.8/site-packages/casadi/casadi.py?line=16035'>16036</a>\u001b[0m \u001b[39m    solve(Opti self) -> OptiSol\u001b[39;00m\n\u001b[1;32m  <a href='file:///opt/openrobots/lib/python3.8/site-packages/casadi/casadi.py?line=16036'>16037</a>\u001b[0m \n\u001b[0;32m   (...)\u001b[0m\n\u001b[1;32m  <a href='file:///opt/openrobots/lib/python3.8/site-packages/casadi/casadi.py?line=16040'>16041</a>\u001b[0m \n\u001b[1;32m  <a href='file:///opt/openrobots/lib/python3.8/site-packages/casadi/casadi.py?line=16041'>16042</a>\u001b[0m \u001b[39m    \"\"\"\u001b[39;00m\n\u001b[0;32m> <a href='file:///opt/openrobots/lib/python3.8/site-packages/casadi/casadi.py?line=16042'>16043</a>\u001b[0m     \u001b[39mreturn\u001b[39;00m _casadi\u001b[39m.\u001b[39;49mOpti_solve(\u001b[39mself\u001b[39;49m, \u001b[39m*\u001b[39;49margs)\n",
      "\u001b[0;31mRuntimeError\u001b[0m: Error in Opti::solve [OptiNode] at .../casadi/core/optistack.cpp:159:\n.../casadi/core/optistack_internal.cpp:997: Assertion \"return_success(accept_limit)\" failed:\nSolver failed. You may use opti.debug.value to investigate the latest values of variables. return_status is 'Invalid_Number_Detected'"
     ]
    }
   ],
   "source": [
    "opti.solver('ipopt')\n",
    "opti.set_initial(dxs, np.zeros(ndx))\n",
    "opti.solve()"
   ]
  },
  {
   "cell_type": "code",
   "execution_count": 232,
   "metadata": {},
   "outputs": [],
   "source": [
    "x_sol = integrate(x0, opti.value(dxs)).full()\n",
    "q_sol = x_sol[: nq]\n",
    "v_sol = x_sol[nq:]"
   ]
  },
  {
   "cell_type": "code",
   "execution_count": 233,
   "metadata": {},
   "outputs": [],
   "source": [
    "viz.display(q_sol)"
   ]
  }
 ],
 "metadata": {
  "interpreter": {
   "hash": "916dbcbb3f70747c44a77c7bcd40155683ae19c65e1c03b4aa3499c5328201f1"
  },
  "kernelspec": {
   "display_name": "Python 3.8.10 64-bit",
   "language": "python",
   "name": "python3"
  },
  "language_info": {
   "codemirror_mode": {
    "name": "ipython",
    "version": 3
   },
   "file_extension": ".py",
   "mimetype": "text/x-python",
   "name": "python",
   "nbconvert_exporter": "python",
   "pygments_lexer": "ipython3",
   "version": "3.8.10"
  },
  "orig_nbformat": 4
 },
 "nbformat": 4,
 "nbformat_minor": 2
}
