{
 "cells": [
  {
   "cell_type": "code",
   "execution_count": 1,
   "metadata": {},
   "outputs": [],
   "source": [
    "import pinocchio as pin\n",
    "from pinocchio import casadi as cpin\n",
    "import casadi\n",
    "import numpy as np\n",
    "import example_robot_data as robex\n",
    "#import matplotlib.pyplot as plt; plt.ion()\n",
    "from pinocchio.visualize import GepettoVisualizer\n",
    "from utils.meshcat_viewer_wrapper import  MeshcatVisualizer, colors"
   ]
  },
  {
   "cell_type": "code",
   "execution_count": 2,
   "metadata": {},
   "outputs": [],
   "source": [
    "robot = robex.load('talos')\n",
    "model = robot.model\n",
    "cmodel = cpin.Model(robot.model)\n",
    "data = model.createData()\n",
    "cdata = cmodel.createData()"
   ]
  },
  {
   "cell_type": "code",
   "execution_count": 3,
   "metadata": {},
   "outputs": [
    {
     "name": "stdout",
     "output_type": "stream",
     "text": [
      "You can open the visualizer by visiting the following URL:\n",
      "http://127.0.0.1:7001/static/\n"
     ]
    }
   ],
   "source": [
    "viz = MeshcatVisualizer(robot)"
   ]
  },
  {
   "cell_type": "code",
   "execution_count": 4,
   "metadata": {},
   "outputs": [],
   "source": [
    "viz.display(robot.q0)"
   ]
  },
  {
   "cell_type": "code",
   "execution_count": 9,
   "metadata": {},
   "outputs": [],
   "source": [
    "nq = cmodel.nq\n",
    "nv = cmodel.nv\n",
    "nx = nq + nv\n",
    "ndx = nv *2\n",
    "\n",
    "cx = casadi.SX.sym('cx', nx, 1)\n",
    "cdx = casadi.SX.sym('cx', ndx, 1)\n",
    "ca = casadi.SX.sym('ca', nv, 1)\n",
    "\n",
    "IDX_LF = IDX_LF = cmodel.getFrameId('leg_left_6_link')\n",
    "IDX_RF = IDX_RF = cmodel.getFrameId('leg_right_6_link')\n",
    "\n",
    "integrate = casadi.Function('integrate', [cx, cdx], [cpin.integrate(cmodel, cx[: nq], cdx[: nv])] )\n",
    "com_position = casadi.Function('com', [cx], [cpin.centerOfMass(cmodel, cdata, cx[: nq])] )\n",
    "\n",
    "cpin.forwardKinematics(cmodel, cdata, cx[: nq], cx[nq :], ca)\n",
    "cpin.updateFramePlacements(cmodel, cdata)        \n",
    "lf_position = casadi.Function('lf', [cx], [cdata.oMf[IDX_LF].translation])\n",
    "rf_position = casadi.Function('rf', [cx], [cdata.oMf[IDX_RF].translation])\n",
    "rf_rotation = casadi.Function('rf', [cx], [cdata.oMf[IDX_RF].rotation])\n",
    "get_T_rf = casadi.Function('T_rf', [cx], [cpin.log6(cpin.SE3(rf_rotation(cx), rf_position(cx) ) ).vector])\n"
   ]
  },
  {
   "cell_type": "code",
   "execution_count": 37,
   "metadata": {},
   "outputs": [],
   "source": [
    "q0 = robot.q0\n",
    "v0 = np.zeros(robot.nv)\n",
    "a0 = np.zeros(robot.nv)\n",
    "x0 = np.concatenate([q0, v0])"
   ]
  },
  {
   "cell_type": "code",
   "execution_count": 38,
   "metadata": {},
   "outputs": [],
   "source": [
    "opti = casadi.Opti()\n",
    "\n",
    "dxs = opti.variable(ndx)\n",
    "xs = integrate(x0, dxs)\n",
    "\n",
    "cost = casadi.sumsqr(dxs)\n",
    "\n",
    "opti.minimize(cost)\n",
    "\n",
    "#opti.subject_to(com_position(xs[2]) == 0.8)\n"
   ]
  },
  {
   "cell_type": "code",
   "execution_count": 39,
   "metadata": {},
   "outputs": [
    {
     "name": "stdout",
     "output_type": "stream",
     "text": [
      "This is Ipopt version 3.11.9, running with linear solver mumps.\n",
      "NOTE: Other linear solvers might be more efficient (see Ipopt documentation).\n",
      "\n",
      "Number of nonzeros in equality constraint Jacobian...:        0\n",
      "Number of nonzeros in inequality constraint Jacobian.:        0\n",
      "Number of nonzeros in Lagrangian Hessian.............:       76\n",
      "\n",
      "Total number of variables............................:       76\n",
      "                     variables with only lower bounds:        0\n",
      "                variables with lower and upper bounds:        0\n",
      "                     variables with only upper bounds:        0\n",
      "Total number of equality constraints.................:        0\n",
      "Total number of inequality constraints...............:        0\n",
      "        inequality constraints with only lower bounds:        0\n",
      "   inequality constraints with lower and upper bounds:        0\n",
      "        inequality constraints with only upper bounds:        0\n",
      "\n",
      "iter    objective    inf_pr   inf_du lg(mu)  ||d||  lg(rg) alpha_du alpha_pr  ls\n",
      "   0  0.0000000e+00 0.00e+00 0.00e+00  -1.0 0.00e+00    -  0.00e+00 0.00e+00   0\n",
      "\n",
      "Number of Iterations....: 0\n",
      "\n",
      "                                   (scaled)                 (unscaled)\n",
      "Objective...............:   0.0000000000000000e+00    0.0000000000000000e+00\n",
      "Dual infeasibility......:   0.0000000000000000e+00    0.0000000000000000e+00\n",
      "Constraint violation....:   0.0000000000000000e+00    0.0000000000000000e+00\n",
      "Complementarity.........:   0.0000000000000000e+00    0.0000000000000000e+00\n",
      "Overall NLP error.......:   0.0000000000000000e+00    0.0000000000000000e+00\n",
      "\n",
      "\n",
      "Number of objective function evaluations             = 1\n",
      "Number of objective gradient evaluations             = 1\n",
      "Number of equality constraint evaluations            = 0\n",
      "Number of inequality constraint evaluations          = 0\n",
      "Number of equality constraint Jacobian evaluations   = 0\n",
      "Number of inequality constraint Jacobian evaluations = 0\n",
      "Number of Lagrangian Hessian evaluations             = 0\n",
      "Total CPU secs in IPOPT (w/o function evaluations)   =      0.000\n",
      "Total CPU secs in NLP function evaluations           =      0.000\n",
      "\n",
      "EXIT: Optimal Solution Found.\n",
      "      solver  :   t_proc      (avg)   t_wall      (avg)    n_eval\n",
      "       nlp_f  |   7.00us (  7.00us)   6.83us (  6.83us)         1\n",
      "  nlp_grad_f  |  35.00us ( 17.50us)  30.82us ( 15.41us)         2\n",
      "       total  |   8.50ms (  8.50ms)   5.44ms (  5.44ms)         1\n"
     ]
    },
    {
     "data": {
      "text/plain": [
       "OptiSol(Opti {\n",
       "  instance #9\n",
       "  #variables: 1 (nx = 76)\n",
       "  #parameters: 0 (np = 0)\n",
       "  #constraints: 0 (ng = 0)\n",
       "  CasADi solver allocated.\n",
       "  CasADi solver was called: Solve_Succeeded\n",
       "})"
      ]
     },
     "execution_count": 39,
     "metadata": {},
     "output_type": "execute_result"
    }
   ],
   "source": [
    "opti.solver('ipopt')\n",
    "\n",
    "opti.solve()"
   ]
  },
  {
   "cell_type": "code",
   "execution_count": 49,
   "metadata": {},
   "outputs": [],
   "source": [
    "x_sol = integrate(x0, opti.value(dxs)).full()\n",
    "q_sol = x_sol[: nq]\n",
    "v_sol = x_sol[nq:]"
   ]
  },
  {
   "cell_type": "code",
   "execution_count": 51,
   "metadata": {},
   "outputs": [],
   "source": [
    "viz.display(q_sol)"
   ]
  }
 ],
 "metadata": {
  "interpreter": {
   "hash": "916dbcbb3f70747c44a77c7bcd40155683ae19c65e1c03b4aa3499c5328201f1"
  },
  "kernelspec": {
   "display_name": "Python 3.8.10 64-bit",
   "language": "python",
   "name": "python3"
  },
  "language_info": {
   "codemirror_mode": {
    "name": "ipython",
    "version": 3
   },
   "file_extension": ".py",
   "mimetype": "text/x-python",
   "name": "python",
   "nbconvert_exporter": "python",
   "pygments_lexer": "ipython3",
   "version": "3.8.10"
  },
  "orig_nbformat": 4
 },
 "nbformat": 4,
 "nbformat_minor": 2
}
